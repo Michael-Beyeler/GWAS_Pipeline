{
 "cells": [
  {
   "cell_type": "markdown",
   "metadata": {},
   "source": [
    "# Imports"
   ]
  },
  {
   "cell_type": "code",
   "execution_count": 1,
   "metadata": {},
   "outputs": [
    {
     "name": "stderr",
     "output_type": "stream",
     "text": [
      "C:\\Users\\micha\\Anaconda2\\lib\\site-packages\\h5py\\__init__.py:36: FutureWarning: Conversion of the second argument of issubdtype from `float` to `np.floating` is deprecated. In future, it will be treated as `np.float64 == np.dtype(float).type`.\n",
      "  from ._conv import register_converters as _register_converters\n",
      "C:\\Users\\micha\\Anaconda2\\lib\\site-packages\\sklearn\\cross_validation.py:41: DeprecationWarning: This module was deprecated in version 0.18 in favor of the model_selection module into which all the refactored classes and functions are moved. Also note that the interface of the new CV iterators are different from that of this module. This module will be removed in 0.20.\n",
      "  \"This module will be removed in 0.20.\", DeprecationWarning)\n"
     ]
    }
   ],
   "source": [
    "# %%capture         # silent cell\n",
    "import numpy as np\n",
    "import csv\n",
    "from fastlmm.association import gsm_extraction\n",
    "from fastlmm.inference.fastlmm_predictor import _snps_fixup, _pheno_fixup, _kernel_fixup, _SnpTrainTest\n",
    "from fastlmm.inference.lmm_cov import LMM"
   ]
  },
  {
   "cell_type": "markdown",
   "metadata": {},
   "source": [
    "# Data\n",
    "\n",
    "The `dgrp2.bed/bim/fam` file triad contains all nuclear variants of freeze 2 DGRP that are described in the Huang2014 paper. These files can be downloaded here: http://dgrp2.gnets.ncsu.edu/data.html.\n",
    "\n",
    "You can put any set of variants you want, specific chromosomes, etc."
   ]
  },
  {
   "cell_type": "code",
   "execution_count": 2,
   "metadata": {},
   "outputs": [],
   "source": [
    "OUTPUT_LOCATION = '../Outputs/'\n",
    "\n",
    "# OUTPUT_NAME     = 'GSM_DGRPFreeze2'\n",
    "OUTPUT_NAME     = 'GSM_Mito_Full'\n",
    "\n",
    "# VARIANTS = '../Raw_Data/dgrp2'\n",
    "VARIANTS = '../Inputs/MitoSeq_AllRuns_dm6_chrM.annot.biallellic_ConvertedReference'"
   ]
  },
  {
   "cell_type": "markdown",
   "metadata": {},
   "source": [
    "# GSM Extraction\n",
    "\n",
    "The following code snippet generates a random phenotype because phenotype values are not needed for GSM calculation (the the `gsm_extraction` function just needs a phenotype input anyway)."
   ]
  },
  {
   "cell_type": "code",
   "execution_count": 3,
   "metadata": {},
   "outputs": [
    {
     "name": "stderr",
     "output_type": "stream",
     "text": [
      "C:\\Users\\micha\\Anaconda2\\lib\\site-packages\\pysnptools-0.3.13-py2.7-win-amd64.egg\\pysnptools\\snpreader\\bed.py:42: FutureWarning: 'count_A1' was not set. For now it will default to 'False', but in the future it will default to 'True'\n",
      "  warnings.warn(\"'count_A1' was not set. For now it will default to 'False', but in the future it will default to 'True'\", FutureWarning)\n"
     ]
    }
   ],
   "source": [
    "test_snps = _snps_fixup(VARIANTS, count_A1=None)\n",
    "\n",
    "test_snps.iid.tofile('../Inputs/GSM_Extraction_Pheno.txt', sep='\\n')\n",
    "\n",
    "my_list = []\n",
    "with open('../Inputs/GSM_Extraction_Pheno.txt', 'r') as f:\n",
    "    for count, line in enumerate(f, start=1):\n",
    "        if count % 2 == 0:\n",
    "            tmp = line.replace(\"\\'\", \"\")\n",
    "            tmp = tmp.replace(\"\\n\", \"\")\n",
    "            my_list.append(tmp)\n",
    "            \n",
    "with open('../Inputs/GSM_Extraction_Pheno.txt', 'w') as f:\n",
    "    for line in my_list:\n",
    "        f.write(' '.join([line, line, str(0.333)+\"\\n\"]))\n"
   ]
  },
  {
   "cell_type": "markdown",
   "metadata": {},
   "source": [
    "I slightly modified the FaST-LMM function `single_snp` so that it only does the GSM calculation part without succeeding GWAS. You can choose to calculate the GSM with the \"leave out one chrom\" method if you want; the default is `False`. (The results between False and True are very similar for all *D. melanogaster* data I tested.)"
   ]
  },
  {
   "cell_type": "code",
   "execution_count": 6,
   "metadata": {},
   "outputs": [
    {
     "ename": "SystemExit",
     "evalue": "GSM successfully written.",
     "output_type": "error",
     "traceback": [
      "An exception has occurred, use %tb to see the full traceback.\n",
      "\u001b[1;31mSystemExit\u001b[0m\u001b[1;31m:\u001b[0m GSM successfully written.\n"
     ]
    }
   ],
   "source": [
    "gsm_extraction(VARIANTS,\n",
    "               '../Inputs/GSM_Extraction_Pheno.txt',\n",
    "               cache_file = OUTPUT_LOCATION+OUTPUT_NAME,\n",
    "               leave_out_one_chrom = False)"
   ]
  },
  {
   "cell_type": "markdown",
   "metadata": {},
   "source": [
    "The following code can be ignored."
   ]
  },
  {
   "cell_type": "code",
   "execution_count": null,
   "metadata": {},
   "outputs": [],
   "source": [
    "#gsm_extraction_leave_out_one_chrom_false(variants_nuclear,\n",
    "#           tergite5_pheno,\n",
    "#           cache_file = '../Outputs/Fast-Lmm-Outputs/GsmNuclear-Tergite.txt')\n",
    "\n",
    "\n",
    "#lmm_nuclear = LMM()\n",
    "#with np.load('../Outputs/Fast-Lmm-Cache/Cache-Nuclear.npz') as data:\n",
    "#    nuclear_U = data['arr_0']\n",
    "#    nuclear_S_vector = data['arr_1']\n",
    "\n",
    "#nuclear_S = np.diag(nuclear_S_vector)\n",
    "#\n",
    "#nuclear_K = np.dot(np.dot(nuclear_U, nuclear_S), nuclear_U)\n",
    "#            \n",
    "#nmm_nuclear.get_K\n",
    "\n",
    "\n",
    "# To run manually\n",
    "# gsm_extraction_leave_out_one_chrom_false(variants_mito,\n",
    "#            random_artificial_pheno_mito,\n",
    "#            cache_file = '../Outputs/Fast-Lmm-Outputs/GsmMito-171DgrpLines.txt')\n",
    "# gsm_extraction_leave_out_one_chrom_false(variants_mito,\n",
    "#            random_artificial_pheno_mito_with_non_dgrp,\n",
    "#                cache_file = '../Outputs/Fast-Lmm-Outputs/GsmMito-All179Lines.txt')"
   ]
  }
 ],
 "metadata": {
  "kernelspec": {
   "display_name": "Python 2",
   "language": "python",
   "name": "python2"
  },
  "language_info": {
   "codemirror_mode": {
    "name": "ipython",
    "version": 2
   },
   "file_extension": ".py",
   "mimetype": "text/x-python",
   "name": "python",
   "nbconvert_exporter": "python",
   "pygments_lexer": "ipython2",
   "version": "2.7.14"
  }
 },
 "nbformat": 4,
 "nbformat_minor": 2
}
