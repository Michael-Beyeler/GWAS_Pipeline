{
 "cells": [
  {
   "cell_type": "markdown",
   "metadata": {},
   "source": [
    "# Imports"
   ]
  },
  {
   "cell_type": "code",
   "execution_count": null,
   "metadata": {},
   "outputs": [],
   "source": [
    "# %%capture         # silent cell\n",
    "import numpy as np\n",
    "import csv\n",
    "from fastlmm.association import gsm_extraction\n",
    "from fastlmm.inference.fastlmm_predictor import _snps_fixup, _pheno_fixup, _kernel_fixup, _SnpTrainTest\n",
    "from fastlmm.inference.lmm_cov import LMM"
   ]
  },
  {
   "cell_type": "markdown",
   "metadata": {},
   "source": [
    "# Data\n",
    "\n",
    "The `dgrp2.bed/bim/fam` file triad contains all nuclear variants of freeze 2 DGRP that are described in the Huang2014 paper. These files can be downloaded here: http://dgrp2.gnets.ncsu.edu/data.html.\n",
    "\n",
    "You can put any set of variants you want, specific chromosomes, etc."
   ]
  },
  {
   "cell_type": "code",
   "execution_count": null,
   "metadata": {},
   "outputs": [],
   "source": [
    "OUTPUT_LOCATION = '../Outputs/'\n",
    "\n",
    "# OUTPUT_NAME     = 'GSM_DGRPFreeze2'\n",
    "OUTPUT_NAME     = 'GSM_Mito_Full'\n",
    "\n",
    "# VARIANTS = '../Raw_Data/dgrp2'\n",
    "VARIANTS = '../Inputs/MitoSeq_AllRuns_dm6_chrM.annot.biallellic_ConvertedReference'"
   ]
  },
  {
   "cell_type": "markdown",
   "metadata": {},
   "source": [
    "# GSM Extraction\n",
    "\n",
    "The following code snippet generates a random phenotype because phenotype values are not needed for GSM calculation (the the `gsm_extraction` function just needs a phenotype input anyway)."
   ]
  },
  {
   "cell_type": "code",
   "execution_count": null,
   "metadata": {},
   "outputs": [],
   "source": [
    "test_snps = _snps_fixup(VARIANTS, count_A1=None)\n",
    "\n",
    "test_snps.iid.tofile('../Inputs/GSM_Extraction_Pheno.txt', sep='\\n')\n",
    "\n",
    "my_list = []\n",
    "with open('../Inputs/GSM_Extraction_Pheno.txt', 'r') as f:\n",
    "    for count, line in enumerate(f, start=1):\n",
    "        if count % 2 == 0:\n",
    "            tmp = line.replace(\"\\'\", \"\")\n",
    "            tmp = tmp.replace(\"\\n\", \"\")\n",
    "            my_list.append(tmp)\n",
    "            \n",
    "with open('../Inputs/GSM_Extraction_Pheno.txt', 'w') as f:\n",
    "    for line in my_list:\n",
    "        f.write(' '.join([line, line, str(0.333)+\"\\n\"]))\n"
   ]
  },
  {
   "cell_type": "markdown",
   "metadata": {},
   "source": [
    "I slightly modified the FaST-LMM function `single_snp` so that it only does the GSM calculation part without succeeding GWAS. You can choose to calculate the GSM with the \"leave out one chrom\" method if you want; the default is `False`. (The results between False and True are very similar for all *D. melanogaster* data I tested.)"
   ]
  },
  {
   "cell_type": "code",
   "execution_count": null,
   "metadata": {},
   "outputs": [],
   "source": [
    "gsm_extraction(VARIANTS,\n",
    "               '../Inputs/GSM_Extraction_Pheno.txt',\n",
    "               cache_file = OUTPUT_LOCATION+OUTPUT_NAME,\n",
    "               leave_out_one_chrom = False)"
   ]
  },
  {
   "cell_type": "markdown",
   "metadata": {},
   "source": [
    "The following code can be ignored."
   ]
  },
  {
   "cell_type": "code",
   "execution_count": null,
   "metadata": {},
   "outputs": [],
   "source": [
    "#gsm_extraction_leave_out_one_chrom_false(variants_nuclear,\n",
    "#           tergite5_pheno,\n",
    "#           cache_file = '../Outputs/Fast-Lmm-Outputs/GsmNuclear-Tergite.txt')\n",
    "\n",
    "\n",
    "#lmm_nuclear = LMM()\n",
    "#with np.load('../Outputs/Fast-Lmm-Cache/Cache-Nuclear.npz') as data:\n",
    "#    nuclear_U = data['arr_0']\n",
    "#    nuclear_S_vector = data['arr_1']\n",
    "\n",
    "#nuclear_S = np.diag(nuclear_S_vector)\n",
    "#\n",
    "#nuclear_K = np.dot(np.dot(nuclear_U, nuclear_S), nuclear_U)\n",
    "#            \n",
    "#nmm_nuclear.get_K\n",
    "\n",
    "\n",
    "# To run manually\n",
    "# gsm_extraction_leave_out_one_chrom_false(variants_mito,\n",
    "#            random_artificial_pheno_mito,\n",
    "#            cache_file = '../Outputs/Fast-Lmm-Outputs/GsmMito-171DgrpLines.txt')\n",
    "# gsm_extraction_leave_out_one_chrom_false(variants_mito,\n",
    "#            random_artificial_pheno_mito_with_non_dgrp,\n",
    "#                cache_file = '../Outputs/Fast-Lmm-Outputs/GsmMito-All179Lines.txt')"
   ]
  }
 ],
 "metadata": {
  "kernelspec": {
   "display_name": "Python 2",
   "language": "python",
   "name": "python2"
  },
  "language_info": {
   "codemirror_mode": {
    "name": "ipython",
    "version": 2
   },
   "file_extension": ".py",
   "mimetype": "text/x-python",
   "name": "python",
   "nbconvert_exporter": "python",
   "pygments_lexer": "ipython2",
   "version": "2.7.14"
  }
 },
 "nbformat": 4,
 "nbformat_minor": 2
}
