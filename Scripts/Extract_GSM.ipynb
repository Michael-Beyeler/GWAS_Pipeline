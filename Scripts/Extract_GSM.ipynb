{
 "cells": [
  {
   "cell_type": "markdown",
   "metadata": {},
   "source": [
    "# Imports"
   ]
  },
  {
   "cell_type": "code",
   "execution_count": 4,
   "metadata": {},
   "outputs": [
    {
     "name": "stderr",
     "output_type": "stream",
     "text": [
      "C:\\Users\\micha\\Anaconda2\\lib\\site-packages\\h5py\\__init__.py:36: FutureWarning: Conversion of the second argument of issubdtype from `float` to `np.floating` is deprecated. In future, it will be treated as `np.float64 == np.dtype(float).type`.\n",
      "  from ._conv import register_converters as _register_converters\n",
      "C:\\Users\\micha\\Anaconda2\\lib\\site-packages\\sklearn\\cross_validation.py:41: DeprecationWarning: This module was deprecated in version 0.18 in favor of the model_selection module into which all the refactored classes and functions are moved. Also note that the interface of the new CV iterators are different from that of this module. This module will be removed in 0.20.\n",
      "  \"This module will be removed in 0.20.\", DeprecationWarning)\n"
     ]
    }
   ],
   "source": [
    "# %%capture         # silent cell\n",
    "import numpy as np\n",
    "import csv\n",
    "from fastlmm.association import gsm_extraction\n",
    "from fastlmm.inference.fastlmm_predictor import _snps_fixup, _pheno_fixup, _kernel_fixup, _SnpTrainTest\n",
    "from fastlmm.inference.lmm_cov import LMM"
   ]
  },
  {
   "cell_type": "markdown",
   "metadata": {},
   "source": [
    "# Data\n",
    "\n",
    "The `dgrp2.bed/bim/fam` file triad contains all nuclear variants of freeze 2 DGRP that are described in the Huang2014 paper. These files can be downloaded here: http://dgrp2.gnets.ncsu.edu/data.html.\n",
    "\n",
    "You can put any set of variants you want, specific chromosomes, etc."
   ]
  },
  {
   "cell_type": "code",
   "execution_count": 5,
   "metadata": {},
   "outputs": [],
   "source": [
    "OUTPUT_LOCATION = '../Outputs/'\n",
    "\n",
    "# OUTPUT_NAME     = 'GSM_DGRPFreeze2'\n",
    "OUTPUT_NAME     = 'GSM_Mito_Full'\n",
    "\n",
    "# VARIANTS = '../Raw_Data/dgrp2'\n",
    "VARIANTS = '../Inputs/MitoSeq_AllRuns_dm6_chrM.annot.biallellic_ConvertedReference'"
   ]
  },
  {
   "cell_type": "markdown",
   "metadata": {},
   "source": [
    "# GSM Extraction\n",
    "\n",
    "The following code snippet generates a random phenotype because phenotype values are not needed for GSM calculation (the the `gsm_extraction` function just needs a phenotype input anyway)."
   ]
  },
  {
   "cell_type": "code",
   "execution_count": 6,
   "metadata": {},
   "outputs": [
    {
     "name": "stderr",
     "output_type": "stream",
     "text": [
      "C:\\Users\\micha\\Anaconda2\\lib\\site-packages\\pysnptools-0.3.13-py2.7-win-amd64.egg\\pysnptools\\snpreader\\bed.py:42: FutureWarning: 'count_A1' was not set. For now it will default to 'False', but in the future it will default to 'True'\n",
      "  warnings.warn(\"'count_A1' was not set. For now it will default to 'False', but in the future it will default to 'True'\", FutureWarning)\n"
     ]
    }
   ],
   "source": [
    "test_snps = _snps_fixup(VARIANTS, count_A1=None)\n",
    "\n",
    "test_snps.iid.tofile('../Inputs/GSM_Extraction_Pheno.txt', sep='\\n')\n",
    "\n",
    "my_list = []\n",
    "with open('../Inputs/GSM_Extraction_Pheno.txt', 'r') as f:\n",
    "    for count, line in enumerate(f, start=1):\n",
    "        if count % 2 == 0:\n",
    "            tmp = line.replace(\"\\'\", \"\")\n",
    "            tmp = tmp.replace(\"\\n\", \"\")\n",
    "            my_list.append(tmp)\n",
    "            \n",
    "with open('../Inputs/GSM_Extraction_Pheno.txt', 'w') as f:\n",
    "    for line in my_list:\n",
    "        f.write(' '.join([line, line, str(0.333)+\"\\n\"]))\n"
   ]
  },
  {
   "cell_type": "markdown",
   "metadata": {},
   "source": [
    "I slightly modified the FaST-LMM function `single_snp` so that it only does the GSM calculation part without succeeding GWAS. You can choose to calculate the GSM with the \"leave out one chrom\" method if you want; the default is `False`. (The results between False and True are very similar for all *D. melanogaster* data I tested.)"
   ]
  },
  {
   "cell_type": "code",
   "execution_count": null,
   "metadata": {},
   "outputs": [],
   "source": [
    "gsm_extraction(VARIANTS,\n",
    "               '../Inputs/GSM_Extraction_Pheno.txt',\n",
    "               cache_file = OUTPUT_LOCATION+OUTPUT_NAME,\n",
    "               leave_out_one_chrom = False)"
   ]
  },
  {
   "cell_type": "markdown",
   "metadata": {},
   "source": [
    "# Everything below can be ignored"
   ]
  },
  {
   "cell_type": "code",
   "execution_count": null,
   "metadata": {},
   "outputs": [],
   "source": [
    "#gsm_extraction_leave_out_one_chrom_false(variants_nuclear,\n",
    "#           tergite5_pheno,\n",
    "#           cache_file = '../Outputs/Fast-Lmm-Outputs/GsmNuclear-Tergite.txt')\n",
    "\n",
    "\n",
    "#lmm_nuclear = LMM()\n",
    "#with np.load('../Outputs/Fast-Lmm-Cache/Cache-Nuclear.npz') as data:\n",
    "#    nuclear_U = data['arr_0']\n",
    "#    nuclear_S_vector = data['arr_1']\n",
    "\n",
    "#nuclear_S = np.diag(nuclear_S_vector)\n",
    "#\n",
    "#nuclear_K = np.dot(np.dot(nuclear_U, nuclear_S), nuclear_U)\n",
    "#            \n",
    "#nmm_nuclear.get_K\n",
    "\n",
    "\n",
    "# To run manually\n",
    "# gsm_extraction_leave_out_one_chrom_false(variants_mito,\n",
    "#            random_artificial_pheno_mito,\n",
    "#            cache_file = '../Outputs/Fast-Lmm-Outputs/GsmMito-171DgrpLines.txt')\n",
    "# gsm_extraction_leave_out_one_chrom_false(variants_mito,\n",
    "#            random_artificial_pheno_mito_with_non_dgrp,\n",
    "#                cache_file = '../Outputs/Fast-Lmm-Outputs/GsmMito-All179Lines.txt')"
   ]
  },
  {
   "cell_type": "markdown",
   "metadata": {},
   "source": [
    "### Spectral Decomposition of NCSU GSM"
   ]
  },
  {
   "cell_type": "code",
   "execution_count": 96,
   "metadata": {},
   "outputs": [
    {
     "name": "stdout",
     "output_type": "stream",
     "text": [
      "[['line_21' 'line_21']\n",
      " ['line_26' 'line_26']\n",
      " ['line_28' 'line_28']\n",
      " ['line_31' 'line_31']\n",
      " ['line_32' 'line_32']\n",
      " ['line_38' 'line_38']\n",
      " ['line_40' 'line_40']\n",
      " ['line_41' 'line_41']\n",
      " ['line_42' 'line_42']\n",
      " ['line_45' 'line_45']\n",
      " ['line_48' 'line_48']\n",
      " ['line_49' 'line_49']\n",
      " ['line_57' 'line_57']\n",
      " ['line_59' 'line_59']\n",
      " ['line_69' 'line_69']\n",
      " ['line_73' 'line_73']\n",
      " ['line_75' 'line_75']\n",
      " ['line_83' 'line_83']\n",
      " ['line_85' 'line_85']\n",
      " ['line_88' 'line_88']\n",
      " ['line_91' 'line_91']\n",
      " ['line_93' 'line_93']\n",
      " ['line_100' 'line_100']\n",
      " ['line_101' 'line_101']\n",
      " ['line_105' 'line_105']\n",
      " ['line_109' 'line_109']\n",
      " ['line_129' 'line_129']\n",
      " ['line_136' 'line_136']\n",
      " ['line_138' 'line_138']\n",
      " ['line_142' 'line_142']\n",
      " ['line_149' 'line_149']\n",
      " ['line_153' 'line_153']\n",
      " ['line_158' 'line_158']\n",
      " ['line_161' 'line_161']\n",
      " ['line_176' 'line_176']\n",
      " ['line_177' 'line_177']\n",
      " ['line_181' 'line_181']\n",
      " ['line_189' 'line_189']\n",
      " ['line_195' 'line_195']\n",
      " ['line_208' 'line_208']\n",
      " ['line_217' 'line_217']\n",
      " ['line_223' 'line_223']\n",
      " ['line_227' 'line_227']\n",
      " ['line_228' 'line_228']\n",
      " ['line_229' 'line_229']\n",
      " ['line_233' 'line_233']\n",
      " ['line_235' 'line_235']\n",
      " ['line_237' 'line_237']\n",
      " ['line_239' 'line_239']\n",
      " ['line_256' 'line_256']\n",
      " ['line_280' 'line_280']\n",
      " ['line_287' 'line_287']\n",
      " ['line_301' 'line_301']\n",
      " ['line_303' 'line_303']\n",
      " ['line_304' 'line_304']\n",
      " ['line_306' 'line_306']\n",
      " ['line_307' 'line_307']\n",
      " ['line_309' 'line_309']\n",
      " ['line_310' 'line_310']\n",
      " ['line_313' 'line_313']\n",
      " ['line_315' 'line_315']\n",
      " ['line_317' 'line_317']\n",
      " ['line_318' 'line_318']\n",
      " ['line_319' 'line_319']\n",
      " ['line_320' 'line_320']\n",
      " ['line_321' 'line_321']\n",
      " ['line_324' 'line_324']\n",
      " ['line_325' 'line_325']\n",
      " ['line_332' 'line_332']\n",
      " ['line_335' 'line_335']\n",
      " ['line_336' 'line_336']\n",
      " ['line_338' 'line_338']\n",
      " ['line_340' 'line_340']\n",
      " ['line_348' 'line_348']\n",
      " ['line_350' 'line_350']\n",
      " ['line_352' 'line_352']\n",
      " ['line_354' 'line_354']\n",
      " ['line_355' 'line_355']\n",
      " ['line_356' 'line_356']\n",
      " ['line_357' 'line_357']\n",
      " ['line_358' 'line_358']\n",
      " ['line_359' 'line_359']\n",
      " ['line_360' 'line_360']\n",
      " ['line_361' 'line_361']\n",
      " ['line_362' 'line_362']\n",
      " ['line_365' 'line_365']\n",
      " ['line_367' 'line_367']\n",
      " ['line_370' 'line_370']\n",
      " ['line_371' 'line_371']\n",
      " ['line_373' 'line_373']\n",
      " ['line_374' 'line_374']\n",
      " ['line_375' 'line_375']\n",
      " ['line_377' 'line_377']\n",
      " ['line_379' 'line_379']\n",
      " ['line_380' 'line_380']\n",
      " ['line_381' 'line_381']\n",
      " ['line_382' 'line_382']\n",
      " ['line_383' 'line_383']\n",
      " ['line_385' 'line_385']\n",
      " ['line_386' 'line_386']\n",
      " ['line_390' 'line_390']\n",
      " ['line_391' 'line_391']\n",
      " ['line_392' 'line_392']\n",
      " ['line_395' 'line_395']\n",
      " ['line_397' 'line_397']\n",
      " ['line_399' 'line_399']\n",
      " ['line_405' 'line_405']\n",
      " ['line_406' 'line_406']\n",
      " ['line_409' 'line_409']\n",
      " ['line_426' 'line_426']\n",
      " ['line_427' 'line_427']\n",
      " ['line_437' 'line_437']\n",
      " ['line_439' 'line_439']\n",
      " ['line_440' 'line_440']\n",
      " ['line_441' 'line_441']\n",
      " ['line_443' 'line_443']\n",
      " ['line_461' 'line_461']\n",
      " ['line_486' 'line_486']\n",
      " ['line_491' 'line_491']\n",
      " ['line_492' 'line_492']\n",
      " ['line_502' 'line_502']\n",
      " ['line_505' 'line_505']\n",
      " ['line_508' 'line_508']\n",
      " ['line_509' 'line_509']\n",
      " ['line_513' 'line_513']\n",
      " ['line_517' 'line_517']\n",
      " ['line_528' 'line_528']\n",
      " ['line_530' 'line_530']\n",
      " ['line_531' 'line_531']\n",
      " ['line_535' 'line_535']\n",
      " ['line_551' 'line_551']\n",
      " ['line_555' 'line_555']\n",
      " ['line_559' 'line_559']\n",
      " ['line_563' 'line_563']\n",
      " ['line_566' 'line_566']\n",
      " ['line_584' 'line_584']\n",
      " ['line_589' 'line_589']\n",
      " ['line_595' 'line_595']\n",
      " ['line_596' 'line_596']\n",
      " ['line_627' 'line_627']\n",
      " ['line_630' 'line_630']\n",
      " ['line_634' 'line_634']\n",
      " ['line_639' 'line_639']\n",
      " ['line_642' 'line_642']\n",
      " ['line_646' 'line_646']\n",
      " ['line_703' 'line_703']\n",
      " ['line_705' 'line_705']\n",
      " ['line_707' 'line_707']\n",
      " ['line_712' 'line_712']\n",
      " ['line_714' 'line_714']\n",
      " ['line_716' 'line_716']\n",
      " ['line_721' 'line_721']\n",
      " ['line_727' 'line_727']\n",
      " ['line_730' 'line_730']\n",
      " ['line_732' 'line_732']\n",
      " ['line_737' 'line_737']\n",
      " ['line_738' 'line_738']\n",
      " ['line_748' 'line_748']\n",
      " ['line_757' 'line_757']\n",
      " ['line_761' 'line_761']\n",
      " ['line_765' 'line_765']\n",
      " ['line_774' 'line_774']\n",
      " ['line_776' 'line_776']\n",
      " ['line_783' 'line_783']\n",
      " ['line_786' 'line_786']\n",
      " ['line_787' 'line_787']\n",
      " ['line_790' 'line_790']\n",
      " ['line_796' 'line_796']\n",
      " ['line_799' 'line_799']\n",
      " ['line_801' 'line_801']\n",
      " ['line_802' 'line_802']\n",
      " ['line_804' 'line_804']\n",
      " ['line_805' 'line_805']\n",
      " ['line_808' 'line_808']\n",
      " ['line_810' 'line_810']\n",
      " ['line_812' 'line_812']\n",
      " ['line_818' 'line_818']\n",
      " ['line_819' 'line_819']\n",
      " ['line_820' 'line_820']\n",
      " ['line_821' 'line_821']\n",
      " ['line_822' 'line_822']\n",
      " ['line_832' 'line_832']\n",
      " ['line_837' 'line_837']\n",
      " ['line_843' 'line_843']\n",
      " ['line_849' 'line_849']\n",
      " ['line_850' 'line_850']\n",
      " ['line_852' 'line_852']\n",
      " ['line_853' 'line_853']\n",
      " ['line_855' 'line_855']\n",
      " ['line_857' 'line_857']\n",
      " ['line_859' 'line_859']\n",
      " ['line_861' 'line_861']\n",
      " ['line_879' 'line_879']\n",
      " ['line_882' 'line_882']\n",
      " ['line_884' 'line_884']\n",
      " ['line_887' 'line_887']\n",
      " ['line_890' 'line_890']\n",
      " ['line_892' 'line_892']\n",
      " ['line_894' 'line_894']\n",
      " ['line_897' 'line_897']\n",
      " ['line_900' 'line_900']\n",
      " ['line_907' 'line_907']\n",
      " ['line_908' 'line_908']\n",
      " ['line_911' 'line_911']\n",
      " ['line_913' 'line_913']]\n"
     ]
    }
   ],
   "source": [
    "from pysnptools.kernelreader import KernelData\n",
    "\n",
    "import re\n",
    "import sys\n",
    "\n",
    "with open('../Raw_Data/freeze2.common.rel.mat') as f:\n",
    "    first_line = f.readline()\n",
    "    \n",
    "# print first_line\n",
    "\n",
    "tmp = re.split(r'\\t+', first_line.rstrip())\n",
    "tmp = tmp[1:]\n",
    "# print tmp\n",
    "iids = []\n",
    "for i in range(len(tmp)):\n",
    "     iids.append(re.split(r' +', tmp[i]))\n",
    "\n",
    "        \n",
    "Gsm = np.genfromtxt('../Raw_Data/freeze2.common.rel.mat', skip_header=True)\n",
    "Gsm = Gsm[:, 2:207]\n",
    "# Gsm = LMM(K=Gsm)\n",
    "# Gsm.setSU_fromK()\n",
    "# Gsm.K\n",
    "\n",
    "# np.savetxt('../Inputs/NCSU_GSM_U.txt', Gsm.U)\n",
    "# np.savetxt('../Inputs/NCSU_GSM_S.txt', Gsm.S)\n",
    "\n",
    "\n",
    "my_kernel = KernelData(iid=iids, val=Gsm)"
   ]
  },
  {
   "cell_type": "code",
   "execution_count": 66,
   "metadata": {},
   "outputs": [
    {
     "name": "stdout",
     "output_type": "stream",
     "text": [
      "fdfaj;lsf\n"
     ]
    }
   ],
   "source": [
    "tmp = 'fdfaj;lsf \\n'\n",
    "print tmp.rstrip()"
   ]
  },
  {
   "cell_type": "code",
   "execution_count": 14,
   "metadata": {},
   "outputs": [
    {
     "ename": "AttributeError",
     "evalue": "'NoneType' object has no attribute 'shape'",
     "output_type": "error",
     "traceback": [
      "\u001b[1;31m---------------------------------------------------------------------------\u001b[0m",
      "\u001b[1;31mAttributeError\u001b[0m                            Traceback (most recent call last)",
      "\u001b[1;32m<ipython-input-14-bace2213ef8c>\u001b[0m in \u001b[0;36m<module>\u001b[1;34m()\u001b[0m\n\u001b[0;32m      1\u001b[0m \u001b[1;31m# Gsm.setK()\u001b[0m\u001b[1;33m\u001b[0m\u001b[1;33m\u001b[0m\u001b[0m\n\u001b[0;32m      2\u001b[0m \u001b[1;31m# Gsm.getK()\u001b[0m\u001b[1;33m\u001b[0m\u001b[1;33m\u001b[0m\u001b[0m\n\u001b[1;32m----> 3\u001b[1;33m \u001b[0mGsm\u001b[0m\u001b[1;33m.\u001b[0m\u001b[0mfindH2\u001b[0m\u001b[1;33m(\u001b[0m\u001b[1;33m)\u001b[0m\u001b[1;33m\u001b[0m\u001b[0m\n\u001b[0m",
      "\u001b[1;32mC:\\Users\\micha\\Anaconda2\\lib\\site-packages\\fastlmm-0.2.31-py2.7-win-amd64.egg\\fastlmm\\inference\\lmm_cov.pyc\u001b[0m in \u001b[0;36mfindH2\u001b[1;34m(self, nGridH2, minH2, maxH2, estimate_Bayes, **kwargs)\u001b[0m\n\u001b[0;32m    430\u001b[0m         '''\n\u001b[0;32m    431\u001b[0m         \u001b[1;31m#f = lambda x : (self.nLLeval(h2=x,**kwargs)['nLL'])\u001b[0m\u001b[1;33m\u001b[0m\u001b[1;33m\u001b[0m\u001b[0m\n\u001b[1;32m--> 432\u001b[1;33m         \u001b[0mresmin\u001b[0m \u001b[1;33m=\u001b[0m \u001b[1;33m[\u001b[0m\u001b[0mNone\u001b[0m \u001b[1;32mfor\u001b[0m \u001b[0mi\u001b[0m \u001b[1;32min\u001b[0m \u001b[0mxrange\u001b[0m\u001b[1;33m(\u001b[0m\u001b[0mself\u001b[0m\u001b[1;33m.\u001b[0m\u001b[0mY\u001b[0m\u001b[1;33m.\u001b[0m\u001b[0mshape\u001b[0m\u001b[1;33m[\u001b[0m\u001b[1;36m1\u001b[0m\u001b[1;33m]\u001b[0m\u001b[1;33m)\u001b[0m\u001b[1;33m]\u001b[0m\u001b[1;33m\u001b[0m\u001b[0m\n\u001b[0m\u001b[0;32m    433\u001b[0m         \u001b[1;31m#logging.info(\"starting H2 search\")\u001b[0m\u001b[1;33m\u001b[0m\u001b[1;33m\u001b[0m\u001b[0m\n\u001b[0;32m    434\u001b[0m         \u001b[1;32massert\u001b[0m \u001b[0mestimate_Bayes\u001b[0m \u001b[1;33m==\u001b[0m \u001b[0mFalse\u001b[0m\u001b[1;33m,\u001b[0m \u001b[1;34m\"not implemented\"\u001b[0m\u001b[1;33m\u001b[0m\u001b[0m\n",
      "\u001b[1;31mAttributeError\u001b[0m: 'NoneType' object has no attribute 'shape'"
     ]
    }
   ],
   "source": [
    "# Gsm.setK()\n",
    "# Gsm.getK()\n",
    "Gsm.findH2()"
   ]
  }
 ],
 "metadata": {
  "kernelspec": {
   "display_name": "Python 2",
   "language": "python",
   "name": "python2"
  },
  "language_info": {
   "codemirror_mode": {
    "name": "ipython",
    "version": 2
   },
   "file_extension": ".py",
   "mimetype": "text/x-python",
   "name": "python",
   "nbconvert_exporter": "python",
   "pygments_lexer": "ipython2",
   "version": "2.7.14"
  }
 },
 "nbformat": 4,
 "nbformat_minor": 2
}
