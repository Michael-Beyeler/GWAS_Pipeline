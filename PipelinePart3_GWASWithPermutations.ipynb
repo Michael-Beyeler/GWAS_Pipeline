{
 "cells": [
  {
   "cell_type": "markdown",
   "metadata": {},
   "source": [
    "# EXPLANATION\n",
    "This script performs GWAS on a pre-selected number of variants (in Plink binary format) and on a specific phenotype you want. Ideally, the phenotype has been adjusted for inversions, infection, and also log-transformed if the raw phenotype's errors weren't normally distributed.\n",
    "\n",
    "BEWARE: You should format your phenotype line IDs in the same way as denoted in the .fam variant file you are feeding."
   ]
  },
  {
   "cell_type": "markdown",
   "metadata": {},
   "source": [
    " # Time measurement\n"
   ]
  },
  {
   "cell_type": "code",
   "execution_count": 1,
   "metadata": {},
   "outputs": [],
   "source": [
    "import time\n",
    "start = time.clock()"
   ]
  },
  {
   "cell_type": "markdown",
   "metadata": {},
   "source": [
    "# CONSTANTS and INPUTS "
   ]
  },
  {
   "cell_type": "code",
   "execution_count": 2,
   "metadata": {},
   "outputs": [
    {
     "name": "stdout",
     "output_type": "stream",
     "text": [
      "Time (s): 0.355455030303\n"
     ]
    }
   ],
   "source": [
    "import os\n",
    "import pandas as pd\n",
    "\n",
    "data = pd.read_csv('Inputs/GWAS_Constants.txt', header=None)\n",
    "\n",
    "NUMBER_OF_PERMUTATIONS = int(data[0][0])\n",
    "OUTPUT_NAME = data[0][1]\n",
    "PHENOTYPE_DATA = data[0][2]\n",
    "VARIANTS_TO_TEST = data[0][3]\n",
    "USE_OFFICIAL_GSM = data[0][4]\n",
    "if USE_OFFICIAL_GSM == \"TRUE\":\n",
    "    USE_OFFICIAL_GSM = True\n",
    "else:\n",
    "    USE_OFFICIAL_GSM = False\n",
    "    \n",
    "    \n",
    "print 'Time (s): ' + str(time.clock()-start)"
   ]
  },
  {
   "cell_type": "markdown",
   "metadata": {},
   "source": [
    "# Importing, general preparations"
   ]
  },
  {
   "cell_type": "code",
   "execution_count": 3,
   "metadata": {},
   "outputs": [
    {
     "name": "stdout",
     "output_type": "stream",
     "text": [
      "Time (s): 0.764853333333\n"
     ]
    },
    {
     "name": "stderr",
     "output_type": "stream",
     "text": [
      "C:\\Users\\micha\\Anaconda2\\lib\\site-packages\\sklearn\\cross_validation.py:41: DeprecationWarning: This module was deprecated in version 0.18 in favor of the model_selection module into which all the refactored classes and functions are moved. Also note that the interface of the new CV iterators are different from that of this module. This module will be removed in 0.20.\n",
      "  \"This module will be removed in 0.20.\", DeprecationWarning)\n"
     ]
    }
   ],
   "source": [
    "from fastlmm.association import single_snp\n",
    "from fastlmm.inference.fastlmm_predictor import _snps_fixup, _pheno_fixup, _kernel_fixup, _SnpTrainTest\n",
    "from random import shuffle\n",
    "import numpy as np\n",
    "import time\n",
    "import os\n",
    "# We're going to need PySnpTools, to do permutations, because we can shuffle bed files by varint using Bed\n",
    "import sys\n",
    "sys.path.append('../PySnpTools')\n",
    "from pysnptools.snpreader import Bed\n",
    "from shutil import copyfile\n",
    "\n",
    "print 'Time (s): ' + str(time.clock()-start)"
   ]
  },
  {
   "cell_type": "markdown",
   "metadata": {},
   "source": [
    "# Actual GWAS"
   ]
  },
  {
   "cell_type": "code",
   "execution_count": 4,
   "metadata": {},
   "outputs": [
    {
     "name": "stderr",
     "output_type": "stream",
     "text": [
      "C:\\Users\\micha\\Anaconda2\\lib\\site-packages\\pysnptools-0.3.13-py2.7-win-amd64.egg\\pysnptools\\snpreader\\bed.py:42: FutureWarning: 'count_A1' was not set. For now it will default to 'False', but in the future it will default to 'True'\n",
      "  warnings.warn(\"'count_A1' was not set. For now it will default to 'False', but in the future it will default to 'True'\", FutureWarning)\n",
      "C:\\Users\\micha\\Anaconda2\\lib\\site-packages\\pysnptools-0.3.13-py2.7-win-amd64.egg\\pysnptools\\snpreader\\snpreader.py:625: FutureWarning: Conversion of the second argument of issubdtype from `str` to `str` is deprecated. In future, it will be treated as `np.string_ == np.dtype(str).type`.\n",
      "  assert np.issubdtype(self._row.dtype, str) and len(self._row.shape)==2 and self._row.shape[1]==2, \"iid should be dtype str, have two dimensions, and the second dimension should be size 2\"\n",
      "C:\\Users\\micha\\Anaconda2\\lib\\site-packages\\pysnptools-0.3.13-py2.7-win-amd64.egg\\pysnptools\\snpreader\\snpreader.py:626: FutureWarning: Conversion of the second argument of issubdtype from `str` to `str` is deprecated. In future, it will be treated as `np.string_ == np.dtype(str).type`.\n",
      "  assert np.issubdtype(self._col.dtype, str) and len(self._col.shape)==1, \"sid should be of dtype of str and one dimensional\"\n",
      "C:\\Users\\micha\\Anaconda2\\lib\\site-packages\\pysnptools-0.3.13-py2.7-win-amd64.egg\\pysnptools\\snpreader\\snpreader.py:676: FutureWarning: Method .as_matrix will be removed in a future version. Use .values instead.\n",
      "  pos = fields.as_matrix([0,2,3])\n",
      "C:\\Users\\micha\\Anaconda2\\lib\\site-packages\\pysnptools-0.3.13-py2.7-win-amd64.egg\\pysnptools\\kernelreader\\kernelreader.py:325: FutureWarning: Conversion of the second argument of issubdtype from `str` to `str` is deprecated. In future, it will be treated as `np.string_ == np.dtype(str).type`.\n",
      "  assert np.issubdtype(self._row.dtype, str) and len(self._row.shape)==2 and self._row.shape[1]==2, \"iid0 should be dtype str, have two dimensions, and the second dimension should be size 2\"\n",
      "C:\\Users\\micha\\Anaconda2\\lib\\site-packages\\pysnptools-0.3.13-py2.7-win-amd64.egg\\pysnptools\\kernelreader\\kernelreader.py:326: FutureWarning: Conversion of the second argument of issubdtype from `str` to `str` is deprecated. In future, it will be treated as `np.string_ == np.dtype(str).type`.\n",
      "  assert np.issubdtype(self._col.dtype, str) and len(self._col.shape)==2 and self._col.shape[1]==2, \"iid1 should be dtype str, have two dimensions, and the second dimension should be size 2\"\n"
     ]
    },
    {
     "name": "stdout",
     "output_type": "stream",
     "text": [
      "Total Time (s): 14.7673517576\n"
     ]
    }
   ],
   "source": [
    "# Clearing cache\n",
    "# This ensures that the relationship matrix is recalculated for each phenotype.\n",
    "try:\n",
    "    os.remove('Outputs/Fast-Lmm-Cache/Gwas-Permutations-Cache.npz')\n",
    "except OSError:\n",
    "    pass\n",
    "\n",
    "\n",
    "\n",
    "# Performing GWAS on the real phenotype:\n",
    "\n",
    "if USE_OFFICIAL_GSM == False:\n",
    "    results_df = single_snp(VARIANTS_TO_TEST,  PHENOTYPE_DATA,\n",
    "                            cache_file='Outputs/Fast-Lmm-Cache/Gwas-Permutations-Cache.npz',\n",
    "                            leave_out_one_chrom=False,\n",
    "                            save_test_statistic=True,\n",
    "                            output_file_name = 'Outputs/' + OUTPUT_NAME + '_Original.txt',\n",
    "                            )\n",
    "else:\n",
    "    \n",
    "    # First, constructing GSM form official relationship matrix (GSM):\n",
    "    import re\n",
    "    import sys\n",
    "    from pysnptools.kernelreader import KernelData\n",
    "\n",
    "    with open('Raw_Data/freeze2.common.rel.mat') as f:\n",
    "        first_line = f.readline()\n",
    "\n",
    "\n",
    "    tmp = re.split(r'\\t+', first_line.rstrip())\n",
    "    tmp = tmp[1:]\n",
    "    # print tmp\n",
    "    iids = []\n",
    "    for i in range(len(tmp)):\n",
    "         iids.append(re.split(r' +', tmp[i]))\n",
    "\n",
    "    Gsm = np.genfromtxt('Raw_Data/freeze2.common.rel.mat', skip_header=True)\n",
    "    # print Gsm\n",
    "\n",
    "    Gsm = Gsm[:, 2:207]\n",
    "    # Gsm = LMM(K=Gsm)\n",
    "    # Gsm.setSU_fromK()\n",
    "    # Gsm.K\n",
    "\n",
    "    # np.savetxt('../Inputs/NCSU_GSM_U.txt', Gsm.U)\n",
    "    # np.savetxt('../Inputs/NCSU_GSM_S.txt', Gsm.S)\n",
    "    \n",
    "    my_kernel = KernelData(iid=iids, val=Gsm.tolist())\n",
    "    \n",
    "    # Now, performing GSM using the official GSM as kernel:\n",
    "    results_df = single_snp(VARIANTS_TO_TEST,\n",
    "                            PHENOTYPE_DATA,\n",
    "                            K0=my_kernel,\n",
    "                            leave_out_one_chrom=False,\n",
    "                            save_test_statistic=True,\n",
    "                            output_file_name = 'Outputs/' + OUTPUT_NAME + '_Original.txt',\n",
    "                            )\n",
    "\n",
    "print 'Total Time (s): ' + str(time.clock()-start)"
   ]
  },
  {
   "cell_type": "code",
   "execution_count": 5,
   "metadata": {},
   "outputs": [
    {
     "name": "stdout",
     "output_type": "stream",
     "text": [
      "Time (s): 15.1125367273\n"
     ]
    }
   ],
   "source": [
    "test_stat = pd.read_csv('Outputs/Fast-Lmm-Cache/Test-Stat-Cache.txt', header=None)\n",
    "test_stat = test_stat.replace('[\\[\\] ]', '', regex=True)\n",
    "test_stat = pd.to_numeric(test_stat[0])\n",
    "\n",
    "results_df['Full ID'] = results_df['Chr'].astype('str') + '_' + results_df['ChrPos'].astype('str')\n",
    "results_df = pd.concat([results_df[['Chr', 'ChrPos', 'SNP', 'Full ID', 'PValue']], test_stat],\n",
    "                       axis = 1)\n",
    "results_df.columns = ['Chr', 'ChrPos', 'SNP', 'Full ID', 'PValue', 'F-test statistic']\n",
    "\n",
    "mybed = Bed(VARIANTS_TO_TEST + '.bed')\n",
    "mysnpdata = mybed.read()\n",
    "\n",
    "print 'Time (s): ' + str(time.clock()-start)"
   ]
  },
  {
   "cell_type": "code",
   "execution_count": 6,
   "metadata": {},
   "outputs": [],
   "source": [
    "pheno = _pheno_fixup(PHENOTYPE_DATA, count_A1=None).read()\n",
    "pheno = pheno.val[np.searchsorted(pheno.iid[:,1], mysnpdata.iid[:,1])]\n",
    "snpdata = mysnpdata.val\n",
    "diff = range(snpdata.shape[1])\n",
    "maf = range(snpdata.shape[1])\n",
    "n_alleles = range(snpdata.shape[1])\n",
    "mean_major = range(snpdata.shape[1])\n",
    "for i in range(snpdata.shape[1]):\n",
    "    ref = [j for j, x in enumerate(snpdata[:,i]) if x == 2]\n",
    "    alt = [j for j, x in enumerate(snpdata[:,i]) if x == 0]\n",
    "    meanref = np.mean(pheno[ref])\n",
    "    meanalt = np.mean(pheno[alt])\n",
    "    if len(ref) > len(alt):\n",
    "        diff[i] = meanref - meanalt\n",
    "        maf[i] = float(len(alt)) / (len(ref) + len(alt))\n",
    "        n_alleles[i] = len(ref) + len(alt)\n",
    "        mean_major[i] = meanref\n",
    "    elif len(ref) + len(alt) == 0:\n",
    "        diff[i] = float('NaN')\n",
    "        maf[i] = float('NaN')\n",
    "        n_alleles[i] = len(ref) + len(alt)\n",
    "        mean_major[i] = float('NaN')\n",
    "    else:\n",
    "        diff[i] = meanalt - meanref\n",
    "        maf[i] = float(len(ref)) / (len(ref) + len(alt))\n",
    "        n_alleles[i] = len(ref) + len(alt)\n",
    "        mean_major[i] = meanalt"
   ]
  },
  {
   "cell_type": "code",
   "execution_count": 7,
   "metadata": {
    "scrolled": true
   },
   "outputs": [],
   "source": [
    "# print np.searchsorted(pheno.iid[:,1], mysnpdata.iid[:,1])\n",
    "# snpdata = mysnpdata.val\n",
    "# print mysnpdata.val\n",
    "\n",
    "# print VARIANTS_TO_TEST\n",
    "# print pheno.shape\n",
    "# print pheno.iid.shape\n",
    "# print mysnpdata.iid.shape\n",
    "# # print pheno.iid[:, 1]\n",
    "# # print mysnpdata.iid[:, 1]\n",
    "\n",
    "# # print len(pheno.iid[:, 1])\n",
    "\n",
    "# print(np.searchsorted(pheno.iid[:,1], mysnpdata.iid[:,1]))"
   ]
  },
  {
   "cell_type": "code",
   "execution_count": 8,
   "metadata": {},
   "outputs": [],
   "source": [
    "diff_df = diff_df = pd.DataFrame(data={'MajMinDiff':diff,\n",
    "                                       'MeanMajor': mean_major,\n",
    "                                       'MAF':maf,\n",
    "                                       'NAlleles':n_alleles})\n",
    "diff_df['SNP'] = mysnpdata.sid\n",
    "results_df = pd.merge(results_df, diff_df, on='SNP')\n",
    "    \n",
    "\n",
    "# PHENOTYPE shuffling/permutation and adding the p-values from the resulting\n",
    "# GWAS to the results data frame.\n",
    "#phenotype_to_shuffle = pd.read_table(PHENOTYPE_DATA,\n",
    "#                                     sep=' ', header=None)\n",
    "#indices = range(len(phenotype_to_shuffle))\n",
    "#temp_shuffled_pheno = '../Outputs/Fast-Lmm-Inputs/Temporary-Shuffled-Phenotype.txt'\n",
    "#\n",
    "#for i in range(NUMBER_OF_PERMUTATIONS):\n",
    "#    time_permut_0 = time.time()\n",
    "#    shuffle(indices)\n",
    "#    phenotype_shuffled = []\n",
    "#    for j in range(len(indices)):\n",
    "#        phenotype_shuffled.append(phenotype_to_shuffle[2][indices[j]])\n",
    "#    \n",
    "#    phenotype_to_shuffle[2] = phenotype_shuffled\n",
    "#    phenotype_to_shuffle.to_csv(temp_shuffled_pheno, header=False, index=False, sep=' ')\n",
    "#    tmp_shuffled_df = single_snp(VARIANTS_TO_TEST,  temp_shuffled_pheno,\n",
    "##                                cache_file='../Outputs/Fast-Lmm-Cache/Gwas-Permutations-Cache'+str(i)\n",
    "#                                 cache_file='../Outputs/Fast-Lmm-Cache/Gwas-Permutations-Cache.npz',\n",
    "#                                 leave_out_one_chrom=False,\n",
    "#                                 )\n",
    "#    tmp_shuffled_df['Full ID'] = tmp_shuffled_df['Chr'].astype('str') + '_' + tmp_shuffled_df['ChrPos'].astype('str')\n",
    "#    \n",
    "#    # sorting the new df to match the original\n",
    "#    tmp_shuffled_df = tmp_shuffled_df[['Full ID', 'PValue']]\n",
    "#    tmp_shuffled_df['PValue'].rename('PValueShuffled'+str(i+1))\n",
    "#    \n",
    "#    \n",
    "#    results_df = pd.merge(results_df, tmp_shuffled_df, on='Full ID')\n",
    "#    print('Time for permutation GWAS:' + str(time.time() - time_permut_0) + 's')"
   ]
  },
  {
   "cell_type": "markdown",
   "metadata": {},
   "source": [
    "# Permutations"
   ]
  },
  {
   "cell_type": "code",
   "execution_count": 9,
   "metadata": {},
   "outputs": [],
   "source": [
    "# Shuffling ALLELES by VARIANT\n",
    "\n",
    "for i in range(NUMBER_OF_PERMUTATIONS):\n",
    "    time_permut_0 = time.time()\n",
    "    \n",
    "    # Python works a little different than R: Shuffle directly modifies the input data frame!\n",
    "    np.random.shuffle(mysnpdata.val)\n",
    "    Bed.write('VariantsPermuted', mysnpdata)\n",
    "    copyfile(VARIANTS_TO_TEST + '.bim', 'VariantsPermuted.bim')\n",
    "\n",
    "    tmp_shuffled_df = single_snp('VariantsPermuted',  PHENOTYPE_DATA,\n",
    "#                                cache_file='Outputs/Fast-Lmm-Cache/Gwas-Permutations-Cache'+str(i)\n",
    "                                 cache_file='Outputs/Fast-Lmm-Cache/Gwas-Permutations-Cache.npz',\n",
    "                                 leave_out_one_chrom=False,\n",
    "                                 )\n",
    "    tmp_shuffled_df['Full ID'] = tmp_shuffled_df['Chr'].astype('str') + '_' + tmp_shuffled_df['ChrPos'].astype('str')\n",
    "    \n",
    "    # sorting the new df to match the original\n",
    "    tmp_shuffled_df = tmp_shuffled_df[['Full ID', 'SNP', 'PValue']]\n",
    "    tmp_shuffled_df = tmp_shuffled_df.rename(columns={'Full ID':'Full IDShuffled'+str(i+1),\n",
    "                                                      'PValue':'PValueShuffled'+str(i+1)})\n",
    "    \n",
    "    snpdata = mysnpdata.val\n",
    "    diff = range(snpdata.shape[1])\n",
    "    maf = range(snpdata.shape[1])\n",
    "    n_alleles = range(snpdata.shape[1])\n",
    "    mean_major = range(snpdata.shape[1])\n",
    "    for k in range(snpdata.shape[1]):\n",
    "        ref = [j for j, x in enumerate(snpdata[:,k]) if x == 2]\n",
    "        alt = [j for j, x in enumerate(snpdata[:,k]) if x == 0]\n",
    "        meanref = np.mean(pheno[ref])\n",
    "        meanalt = np.mean(pheno[alt])\n",
    "        if len(ref) > len(alt):\n",
    "            diff[k] = meanref - meanalt\n",
    "            maf[k] = float(len(alt)) / (len(ref) + len(alt))\n",
    "            n_alleles[k] = len(ref) + len(alt)\n",
    "            mean_major[k] = meanref\n",
    "        elif len(ref) + len(alt) == 0:\n",
    "            diff[k] = float('NaN')\n",
    "            maf[k] = float('NaN')\n",
    "            n_alleles[k] = len(ref) + len(alt)\n",
    "            mean_major[k] = float('NaN')\n",
    "        else:\n",
    "            diff[k] = meanalt - meanref\n",
    "            maf[k] = float(len(ref)) / (len(ref) + len(alt))\n",
    "            n_alleles[k] = len(ref) + len(alt)\n",
    "            mean_major[k] = meanalt\n",
    "        \n",
    "    diff_df = diff_df = pd.DataFrame(data={'MajMinDiffShuffled'+str(i+1):diff,\n",
    "                                           'MeanMajorShuffled'+str(i+1): mean_major,\n",
    "                                           'NAllelesShuffled'+str(i+1):n_alleles,\n",
    "                                           'MAFShuffled'+str(i+1):maf})\n",
    "    diff_df['SNP'] = mysnpdata.sid\n",
    "    tmp_shuffled_df = pd.merge(tmp_shuffled_df, diff_df, on='SNP')\n",
    "    tmp_shuffled_df = tmp_shuffled_df.rename(columns={'SNP':'SNPShuffled'+str(i+1)})\n",
    "    \n",
    "#    results_df = pd.merge(results_df, tmp_shuffled_df, on='Full ID')\n",
    "    results_df = results_df.join(tmp_shuffled_df)\n",
    "    print('Time for permutation GWAS:' + str(time.time() - time_permut_0) + 's')   "
   ]
  },
  {
   "cell_type": "code",
   "execution_count": 10,
   "metadata": {},
   "outputs": [],
   "source": [
    "results_df.to_csv(OUTPUT_NAME + '_with_Permutations.txt', sep=\"\\t\", index=False)"
   ]
  },
  {
   "cell_type": "markdown",
   "metadata": {},
   "source": [
    "# Manhattan Plot"
   ]
  },
  {
   "cell_type": "code",
   "execution_count": 12,
   "metadata": {},
   "outputs": [
    {
     "name": "stderr",
     "output_type": "stream",
     "text": [
      "C:\\Users\\micha\\Anaconda2\\lib\\site-packages\\ipykernel_launcher.py:9: FutureWarning: Method .as_matrix will be removed in a future version. Use .values instead.\n",
      "  if __name__ == '__main__':\n"
     ]
    },
    {
     "ename": "ValueError",
     "evalue": "invalid literal for int() with base 10: 'X'",
     "output_type": "error",
     "traceback": [
      "\u001b[1;31m---------------------------------------------------------------------------\u001b[0m",
      "\u001b[1;31mValueError\u001b[0m                                Traceback (most recent call last)",
      "\u001b[1;32m<ipython-input-12-b1477241bd27>\u001b[0m in \u001b[0;36m<module>\u001b[1;34m()\u001b[0m\n\u001b[0;32m      7\u001b[0m \u001b[1;32mimport\u001b[0m \u001b[0mpylab\u001b[0m\u001b[1;33m\u001b[0m\u001b[0m\n\u001b[0;32m      8\u001b[0m \u001b[1;32mimport\u001b[0m \u001b[0mfastlmm\u001b[0m\u001b[1;33m.\u001b[0m\u001b[0mutil\u001b[0m\u001b[1;33m.\u001b[0m\u001b[0mutil\u001b[0m \u001b[1;32mas\u001b[0m \u001b[0mflutil\u001b[0m\u001b[1;33m\u001b[0m\u001b[0m\n\u001b[1;32m----> 9\u001b[1;33m \u001b[0mflutil\u001b[0m\u001b[1;33m.\u001b[0m\u001b[0mmanhattan_plot\u001b[0m\u001b[1;33m(\u001b[0m\u001b[0mresults_df\u001b[0m\u001b[1;33m.\u001b[0m\u001b[0mas_matrix\u001b[0m\u001b[1;33m(\u001b[0m\u001b[1;33m[\u001b[0m\u001b[1;34m\"Chr\"\u001b[0m\u001b[1;33m,\u001b[0m \u001b[1;34m\"ChrPos\"\u001b[0m\u001b[1;33m,\u001b[0m \u001b[1;34m\"PValue\"\u001b[0m\u001b[1;33m]\u001b[0m\u001b[1;33m)\u001b[0m\u001b[1;33m,\u001b[0m\u001b[0mpvalue_line\u001b[0m\u001b[1;33m=\u001b[0m\u001b[1;36m1e-5\u001b[0m\u001b[1;33m,\u001b[0m\u001b[0mxaxis_unit_bp\u001b[0m\u001b[1;33m=\u001b[0m\u001b[0mFalse\u001b[0m\u001b[1;33m,\u001b[0m \u001b[0mplot_threshold\u001b[0m\u001b[1;33m=\u001b[0m\u001b[1;36m1\u001b[0m\u001b[1;33m)\u001b[0m\u001b[1;33m\u001b[0m\u001b[0m\n\u001b[0m\u001b[0;32m     10\u001b[0m \u001b[0mpylab\u001b[0m\u001b[1;33m.\u001b[0m\u001b[0msavefig\u001b[0m\u001b[1;33m(\u001b[0m\u001b[1;34m'Figures/'\u001b[0m \u001b[1;33m+\u001b[0m \u001b[0mOUTPUT_NAME\u001b[0m \u001b[1;33m+\u001b[0m \u001b[1;34m'_Manhattan_Plot.png'\u001b[0m\u001b[1;33m)\u001b[0m\u001b[1;33m\u001b[0m\u001b[0m\n\u001b[0;32m     11\u001b[0m \u001b[0mpylab\u001b[0m\u001b[1;33m.\u001b[0m\u001b[0mclose\u001b[0m\u001b[1;33m(\u001b[0m\u001b[1;33m)\u001b[0m\u001b[1;33m\u001b[0m\u001b[0m\n",
      "\u001b[1;32mC:\\Users\\micha\\Anaconda2\\lib\\site-packages\\fastlmm-0.2.31-py2.7-win-amd64.egg\\fastlmm\\util\\util.pyc\u001b[0m in \u001b[0;36mmanhattan_plot\u001b[1;34m(chr_pos_pvalue_array, pvalue_line, plot_threshold, plot_threshold_upper, vline_significant, marker, chromosome_starts, xaxis_unit_bp, alpha)\u001b[0m\n\u001b[0;32m    527\u001b[0m     \u001b[1;32melse\u001b[0m\u001b[1;33m:\u001b[0m               \u001b[1;31m#use rank indices for x-axis\u001b[0m\u001b[1;33m\u001b[0m\u001b[0m\n\u001b[0;32m    528\u001b[0m         \u001b[0mchr_pos_list\u001b[0m \u001b[1;33m=\u001b[0m \u001b[0mnp\u001b[0m\u001b[1;33m.\u001b[0m\u001b[0marange\u001b[0m\u001b[1;33m(\u001b[0m\u001b[0marray\u001b[0m\u001b[1;33m.\u001b[0m\u001b[0mshape\u001b[0m\u001b[1;33m[\u001b[0m\u001b[1;36m0\u001b[0m\u001b[1;33m]\u001b[0m\u001b[1;33m)\u001b[0m\u001b[1;33m\u001b[0m\u001b[0m\n\u001b[1;32m--> 529\u001b[1;33m         \u001b[0mxTickMarks\u001b[0m \u001b[1;33m=\u001b[0m \u001b[1;33m[\u001b[0m\u001b[0mstr\u001b[0m\u001b[1;33m(\u001b[0m\u001b[0mint\u001b[0m\u001b[1;33m(\u001b[0m\u001b[0mitem\u001b[0m\u001b[1;33m)\u001b[0m\u001b[1;33m)\u001b[0m \u001b[1;32mfor\u001b[0m \u001b[0mitem\u001b[0m\u001b[1;33m,\u001b[0m\u001b[0mcount\u001b[0m \u001b[1;32min\u001b[0m \u001b[0mrle\u001b[0m\u001b[1;33m]\u001b[0m\u001b[1;33m\u001b[0m\u001b[0m\n\u001b[0m\u001b[0;32m    530\u001b[0m \u001b[1;31m#        print(xTickMarks)\u001b[0m\u001b[1;33m\u001b[0m\u001b[1;33m\u001b[0m\u001b[0m\n\u001b[0;32m    531\u001b[0m         \u001b[0mplt\u001b[0m\u001b[1;33m.\u001b[0m\u001b[0mxlim\u001b[0m\u001b[1;33m(\u001b[0m\u001b[1;33m[\u001b[0m\u001b[1;36m0\u001b[0m\u001b[1;33m,\u001b[0m\u001b[0marray\u001b[0m\u001b[1;33m.\u001b[0m\u001b[0mshape\u001b[0m\u001b[1;33m[\u001b[0m\u001b[1;36m0\u001b[0m\u001b[1;33m]\u001b[0m\u001b[1;33m]\u001b[0m\u001b[1;33m)\u001b[0m\u001b[1;33m\u001b[0m\u001b[0m\n",
      "\u001b[1;31mValueError\u001b[0m: invalid literal for int() with base 10: 'X'"
     ]
    }
   ],
   "source": [
    "import matplotlib.pyplot as plt\n",
    "\n",
    "# The next line makes sure that the code also runs on machines without graphical display (such as WSL).\n",
    "plt.switch_backend('agg')\n",
    "# matplotlib.use('agg')\n",
    "\n",
    "import pylab\n",
    "import fastlmm.util.util as flutil\n",
    "flutil.manhattan_plot(results_df.as_matrix([\"Chr\", \"ChrPos\", \"PValue\"]),pvalue_line=1e-5,xaxis_unit_bp=False, plot_threshold=1)\n",
    "pylab.savefig('Figures/' + OUTPUT_NAME + '_Manhattan_Plot.png')\n",
    "pylab.close()\n",
    "print 'Time after Manhattan plot: ' + str(time.clock()-start)"
   ]
  },
  {
   "cell_type": "markdown",
   "metadata": {},
   "source": [
    "# QQ Plot"
   ]
  },
  {
   "cell_type": "code",
   "execution_count": null,
   "metadata": {},
   "outputs": [],
   "source": [
    "from fastlmm.util.stats import plotp\n",
    "plotp.qqplot(results_df[\"PValue\"].values, xlim=[0,5], ylim=[0,5])\n",
    "pylab.savefig('Figures/' + OUTPUT_NAME + 'QQ_Plot.png')\n",
    "pylab.close()\n",
    "\n",
    "print 'Time after QQ plot: ' + str(time.clock()-start)\n",
    "\n",
    "print \"Done!\""
   ]
  },
  {
   "cell_type": "markdown",
   "metadata": {},
   "source": [
    "# The End"
   ]
  },
  {
   "cell_type": "code",
   "execution_count": null,
   "metadata": {},
   "outputs": [],
   "source": []
  }
 ],
 "metadata": {
  "kernelspec": {
   "display_name": "Python 2",
   "language": "python",
   "name": "python2"
  },
  "language_info": {
   "codemirror_mode": {
    "name": "ipython",
    "version": 2
   },
   "file_extension": ".py",
   "mimetype": "text/x-python",
   "name": "python",
   "nbconvert_exporter": "python",
   "pygments_lexer": "ipython2",
   "version": "2.7.15"
  }
 },
 "nbformat": 4,
 "nbformat_minor": 2
}
