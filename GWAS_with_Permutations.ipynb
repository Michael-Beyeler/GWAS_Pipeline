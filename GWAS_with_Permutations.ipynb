{
 "cells": [
  {
   "cell_type": "markdown",
   "metadata": {},
   "source": [
    "# EXPLANATION\n",
    "This script performs GWAS on a pre-selected number of variants (in Plink binary format) and on a specific phenotype you want. Ideally, the phenotype has been adjusted for inversions, infection, and also log-transformed if the raw phenotype wasn't deemed normally distributed.\n",
    "\n",
    "BEWARE: You should format your phenotype line IDs in the same way as denoted in the .fam variant file you are using."
   ]
  },
  {
   "cell_type": "markdown",
   "metadata": {},
   "source": [
    " # Time measurement\n"
   ]
  },
  {
   "cell_type": "code",
   "execution_count": 2,
   "metadata": {},
   "outputs": [
    {
     "name": "stdout",
     "output_type": "stream",
     "text": [
      "hi\n"
     ]
    }
   ],
   "source": [
    "import time\n",
    "start = time.clock()\n",
    "print 'hi'"
   ]
  },
  {
   "cell_type": "markdown",
   "metadata": {},
   "source": [
    "# Importing, general preparations"
   ]
  },
  {
   "cell_type": "code",
   "execution_count": 3,
   "metadata": {},
   "outputs": [
    {
     "name": "stderr",
     "output_type": "stream",
     "text": [
      "C:\\Users\\micha\\Anaconda2\\lib\\site-packages\\h5py\\__init__.py:36: FutureWarning: Conversion of the second argument of issubdtype from `float` to `np.floating` is deprecated. In future, it will be treated as `np.float64 == np.dtype(float).type`.\n",
      "  from ._conv import register_converters as _register_converters\n",
      "C:\\Users\\micha\\Anaconda2\\lib\\site-packages\\sklearn\\cross_validation.py:41: DeprecationWarning: This module was deprecated in version 0.18 in favor of the model_selection module into which all the refactored classes and functions are moved. Also note that the interface of the new CV iterators are different from that of this module. This module will be removed in 0.20.\n",
      "  \"This module will be removed in 0.20.\", DeprecationWarning)\n"
     ]
    }
   ],
   "source": [
    "import os\n",
    "os.chdir('FaST_LMM')\n",
    "\n",
    "from fastlmm.association import single_snp\n",
    "from fastlmm.inference.fastlmm_predictor import _snps_fixup, _pheno_fixup, _kernel_fixup, _SnpTrainTest\n",
    "from random import shuffle\n",
    "import numpy as np\n",
    "import pandas as pd\n",
    "import time\n",
    "import os\n",
    "# We're going to need PySnpTools, to do permutations, because we can shuffle bed files by varint using Bed\n",
    "import sys\n",
    "sys.path.append('../PySnpTools')\n",
    "from pysnptools.snpreader import Bed\n",
    "from shutil import copyfile"
   ]
  },
  {
   "cell_type": "markdown",
   "metadata": {},
   "source": [
    "# CONSTANTS "
   ]
  },
  {
   "cell_type": "code",
   "execution_count": 4,
   "metadata": {},
   "outputs": [],
   "source": [
    "# Permutation info\n",
    "NUMBER_OF_PERMUTATIONS = 0\n",
    "# Where you want to save your phenotype\n",
    "OUTPUT_NAME = '../Outputs/GWASMay'"
   ]
  },
  {
   "cell_type": "markdown",
   "metadata": {},
   "source": [
    "# INPUTS "
   ]
  },
  {
   "cell_type": "code",
   "execution_count": 7,
   "metadata": {},
   "outputs": [
    {
     "name": "stdout",
     "output_type": "stream",
     "text": [
      "NaN beta value seen, may be due to an SNC (a constant SNP)\n",
      "NaN beta value seen, may be due to an SNC (a constant SNP)\n",
      "NaN beta value seen, may be due to an SNC (a constant SNP)\n",
      "NaN beta value seen, may be due to an SNC (a constant SNP)\n",
      "NaN beta value seen, may be due to an SNC (a constant SNP)\n",
      "NaN beta value seen, may be due to an SNC (a constant SNP)\n",
      "NaN beta value seen, may be due to an SNC (a constant SNP)\n",
      "NaN beta value seen, may be due to an SNC (a constant SNP)\n",
      "NaN beta value seen, may be due to an SNC (a constant SNP)\n",
      "NaN beta value seen, may be due to an SNC (a constant SNP)\n",
      "NaN beta value seen, may be due to an SNC (a constant SNP)\n",
      "NaN beta value seen, may be due to an SNC (a constant SNP)\n",
      "NaN beta value seen, may be due to an SNC (a constant SNP)\n",
      "NaN beta value seen, may be due to an SNC (a constant SNP)\n",
      "NaN beta value seen, may be due to an SNC (a constant SNP)\n",
      "NaN beta value seen, may be due to an SNC (a constant SNP)\n",
      "NaN beta value seen, may be due to an SNC (a constant SNP)\n",
      "NaN beta value seen, may be due to an SNC (a constant SNP)\n",
      "Time for full GWAS:98.2669999599s\n",
      "Total time: 609.314557756\n"
     ]
    }
   ],
   "source": [
    "# Phenotype data to test\n",
    "#phenotype_data = '../Outputs/Fast-Lmm-Input-Interocular-Distance-Vonesch2016-Female.txt'\n",
    "phenotype_data = '../Outputs/Fast-Lmm-Input-Mass-Female.txt'\n",
    "#phenotype_data = '../Outputs/Dgrp2-AllLines-RandomPheno-for-Mito.txt'\n",
    "#phenotype_data = '../Outputs/T5-Pheno-for-Fast-Lmm-DGRPFormat.txt'\n",
    "#phenotype_data = '../Outputs/T5-Pheno-for-Fast-Lmm.txt'\n",
    "\n",
    "\n",
    "# Variants to test your phenotype on\n",
    "#variants_to_test = '../Outputs/MitoSeq_AllRuns_dm6_chrM.annot.biallellic_ConvertedReference'\n",
    "#variants_to_test = '../Data/dgrp2'\n",
    "#variants_to_test = '../Outputs/Plinkfiles/DGRP2Chr2R'\n",
    "variants_to_test = '../Outputs/MassVariants_MAF5'\n",
    "#variants_to_test = '../Outputs/Plinkfiles/Dgrp2-CSLines-Maf5'\n",
    "\n",
    "\n",
    "# ACTUAL GWAS =================================================================\n",
    "\n",
    "# Clearing cache\n",
    "# This ensures that the relationship matrix is recalculated for each phenotype.\n",
    "try:\n",
    "    os.remove('Outputs/Fast-Lmm-Cache/Gwas-Permutations-Cache.npz')\n",
    "except OSError:\n",
    "    pass\n",
    "\n",
    "\n",
    "\n",
    "# Performing GWAS on the real phenotype:\n",
    "\n",
    "time_0 = time.time()\n",
    "results_df = single_snp(variants_to_test,  phenotype_data,\n",
    "                        cache_file='Outputs/Fast-Lmm-Cache/Gwas-Permutations-Cache.npz',\n",
    "                        leave_out_one_chrom=False,\n",
    "                        save_test_statistic=True,\n",
    "                        output_file_name = OUTPUT_NAME + '-Original.txt',\n",
    "                        )\n",
    "time_1 = time.time()\n",
    "\n",
    "print('Time for full GWAS:' + str(time_1 - time_0) + 's')\n",
    "print 'Total time: ' + str(time.clock()-start)"
   ]
  },
  {
   "cell_type": "code",
   "execution_count": 8,
   "metadata": {},
   "outputs": [],
   "source": [
    "test_stat = pd.read_csv('../Outputs/Fast-Lmm-Cache/Test-Stat-Cache.txt', header=None)\n",
    "test_stat = test_stat.replace('[\\[\\] ]', '', regex=True)\n",
    "test_stat = pd.to_numeric(test_stat[0])\n",
    "\n",
    "results_df['Full ID'] = results_df['Chr'].astype('str') + '_' + results_df['ChrPos'].astype('str')\n",
    "results_df = pd.concat([results_df[['Chr', 'ChrPos', 'SNP', 'Full ID', 'PValue']], test_stat],\n",
    "                       axis = 1)\n",
    "results_df.columns = ['Chr', 'ChrPos', 'SNP', 'Full ID', 'PValue', 'F-test statistic']\n",
    "\n",
    "mybed = Bed(variants_to_test + '.bed')\n",
    "mysnpdata = mybed.read()"
   ]
  },
  {
   "cell_type": "code",
   "execution_count": 9,
   "metadata": {},
   "outputs": [
    {
     "name": "stderr",
     "output_type": "stream",
     "text": [
      "C:\\Users\\micha\\Anaconda2\\lib\\site-packages\\numpy\\core\\fromnumeric.py:2957: RuntimeWarning: Mean of empty slice.\n",
      "  out=out, **kwargs)\n",
      "C:\\Users\\micha\\Anaconda2\\lib\\site-packages\\numpy\\core\\_methods.py:80: RuntimeWarning: invalid value encountered in double_scalars\n",
      "  ret = ret.dtype.type(ret / rcount)\n"
     ]
    }
   ],
   "source": [
    "pheno = _pheno_fixup(phenotype_data, count_A1=None).read()\n",
    "pheno = pheno.val[np.searchsorted(pheno.iid[:,1], mysnpdata.iid[:,1])]\n",
    "snpdata = mysnpdata.val\n",
    "diff = range(snpdata.shape[1])\n",
    "maf = range(snpdata.shape[1])\n",
    "n_alleles = range(snpdata.shape[1])\n",
    "mean_major = range(snpdata.shape[1])\n",
    "for i in range(snpdata.shape[1]):\n",
    "    ref = [j for j, x in enumerate(snpdata[:,i]) if x == 2]\n",
    "    alt = [j for j, x in enumerate(snpdata[:,i]) if x == 0]\n",
    "    meanref = np.mean(pheno[ref])\n",
    "    meanalt = np.mean(pheno[alt])\n",
    "    if len(ref) > len(alt):\n",
    "        diff[i] = meanref - meanalt\n",
    "        maf[i] = float(len(alt)) / (len(ref) + len(alt))\n",
    "        n_alleles[i] = len(ref) + len(alt)\n",
    "        mean_major[i] = meanref\n",
    "    elif len(ref) + len(alt) == 0:\n",
    "        diff[i] = float('NaN')\n",
    "        maf[i] = float('NaN')\n",
    "        n_alleles[i] = len(ref) + len(alt)\n",
    "        mean_major[i] = float('NaN')\n",
    "    else:\n",
    "        diff[i] = meanalt - meanref\n",
    "        maf[i] = float(len(ref)) / (len(ref) + len(alt))\n",
    "        n_alleles[i] = len(ref) + len(alt)\n",
    "        mean_major[i] = meanalt"
   ]
  },
  {
   "cell_type": "code",
   "execution_count": 11,
   "metadata": {},
   "outputs": [],
   "source": [
    "diff_df = diff_df = pd.DataFrame(data={'MajMinDiff':diff,\n",
    "                                       'MeanMajor': mean_major,\n",
    "                                       'MAF':maf,\n",
    "                                       'NAlleles':n_alleles})\n",
    "diff_df['SNP'] = mysnpdata.sid\n",
    "results_df = pd.merge(results_df, diff_df, on='SNP')\n",
    "    \n",
    "\n",
    "# PHENOTYPE shuffling/permutation and adding the p-values from the resulting\n",
    "# GWAS to the results data frame.\n",
    "#phenotype_to_shuffle = pd.read_table(phenotype_data,\n",
    "#                                     sep=' ', header=None)\n",
    "#indices = range(len(phenotype_to_shuffle))\n",
    "#temp_shuffled_pheno = '../Outputs/Fast-Lmm-Inputs/Temporary-Shuffled-Phenotype.txt'\n",
    "#\n",
    "#for i in range(NUMBER_OF_PERMUTATIONS):\n",
    "#    time_permut_0 = time.time()\n",
    "#    shuffle(indices)\n",
    "#    phenotype_shuffled = []\n",
    "#    for j in range(len(indices)):\n",
    "#        phenotype_shuffled.append(phenotype_to_shuffle[2][indices[j]])\n",
    "#    \n",
    "#    phenotype_to_shuffle[2] = phenotype_shuffled\n",
    "#    phenotype_to_shuffle.to_csv(temp_shuffled_pheno, header=False, index=False, sep=' ')\n",
    "#    tmp_shuffled_df = single_snp(variants_to_test,  temp_shuffled_pheno,\n",
    "##                                cache_file='../Outputs/Fast-Lmm-Cache/Gwas-Permutations-Cache'+str(i)\n",
    "#                                 cache_file='../Outputs/Fast-Lmm-Cache/Gwas-Permutations-Cache.npz',\n",
    "#                                 leave_out_one_chrom=False,\n",
    "#                                 )\n",
    "#    tmp_shuffled_df['Full ID'] = tmp_shuffled_df['Chr'].astype('str') + '_' + tmp_shuffled_df['ChrPos'].astype('str')\n",
    "#    \n",
    "#    # sorting the new df to match the original\n",
    "#    tmp_shuffled_df = tmp_shuffled_df[['Full ID', 'PValue']]\n",
    "#    tmp_shuffled_df['PValue'].rename('PValueShuffled'+str(i+1))\n",
    "#    \n",
    "#    \n",
    "#    results_df = pd.merge(results_df, tmp_shuffled_df, on='Full ID')\n",
    "#    print('Time for permutation GWAS:' + str(time.time() - time_permut_0) + 's')"
   ]
  },
  {
   "cell_type": "code",
   "execution_count": 12,
   "metadata": {},
   "outputs": [],
   "source": [
    "# Shuffling ALLELES by VARIANT\n",
    "\n",
    "for i in range(NUMBER_OF_PERMUTATIONS):\n",
    "    time_permut_0 = time.time()\n",
    "    \n",
    "    # Python works a little different than R: Shuffle directly modifies the input data frame!\n",
    "    np.random.shuffle(mysnpdata.val)\n",
    "    Bed.write('VariantsPermuted', mysnpdata)\n",
    "    copyfile(variants_to_test + '.bim', 'VariantsPermuted.bim')\n",
    "\n",
    "    tmp_shuffled_df = single_snp('VariantsPermuted',  phenotype_data,\n",
    "#                                cache_file='../Outputs/Fast-Lmm-Cache/Gwas-Permutations-Cache'+str(i)\n",
    "                                 cache_file='../Outputs/Fast-Lmm-Cache/Gwas-Permutations-Cache.npz',\n",
    "                                 leave_out_one_chrom=False,\n",
    "                                 )\n",
    "    tmp_shuffled_df['Full ID'] = tmp_shuffled_df['Chr'].astype('str') + '_' + tmp_shuffled_df['ChrPos'].astype('str')\n",
    "    \n",
    "    # sorting the new df to match the original\n",
    "    tmp_shuffled_df = tmp_shuffled_df[['Full ID', 'SNP', 'PValue']]\n",
    "    tmp_shuffled_df = tmp_shuffled_df.rename(columns={'Full ID':'Full IDShuffled'+str(i+1),\n",
    "                                                      'PValue':'PValueShuffled'+str(i+1)})\n",
    "    \n",
    "    snpdata = mysnpdata.val\n",
    "    diff = range(snpdata.shape[1])\n",
    "    maf = range(snpdata.shape[1])\n",
    "    n_alleles = range(snpdata.shape[1])\n",
    "    mean_major = range(snpdata.shape[1])\n",
    "    for k in range(snpdata.shape[1]):\n",
    "        ref = [j for j, x in enumerate(snpdata[:,k]) if x == 2]\n",
    "        alt = [j for j, x in enumerate(snpdata[:,k]) if x == 0]\n",
    "        meanref = np.mean(pheno[ref])\n",
    "        meanalt = np.mean(pheno[alt])\n",
    "        if len(ref) > len(alt):\n",
    "            diff[k] = meanref - meanalt\n",
    "            maf[k] = float(len(alt)) / (len(ref) + len(alt))\n",
    "            n_alleles[k] = len(ref) + len(alt)\n",
    "            mean_major[k] = meanref\n",
    "        elif len(ref) + len(alt) == 0:\n",
    "            diff[k] = float('NaN')\n",
    "            maf[k] = float('NaN')\n",
    "            n_alleles[k] = len(ref) + len(alt)\n",
    "            mean_major[k] = float('NaN')\n",
    "        else:\n",
    "            diff[k] = meanalt - meanref\n",
    "            maf[k] = float(len(ref)) / (len(ref) + len(alt))\n",
    "            n_alleles[k] = len(ref) + len(alt)\n",
    "            mean_major[k] = meanalt\n",
    "        \n",
    "    diff_df = diff_df = pd.DataFrame(data={'MajMinDiffShuffled'+str(i+1):diff,\n",
    "                                           'MeanMajorShuffled'+str(i+1): mean_major,\n",
    "                                           'NAllelesShuffled'+str(i+1):n_alleles,\n",
    "                                           'MAFShuffled'+str(i+1):maf})\n",
    "    diff_df['SNP'] = mysnpdata.sid\n",
    "    tmp_shuffled_df = pd.merge(tmp_shuffled_df, diff_df, on='SNP')\n",
    "    tmp_shuffled_df = tmp_shuffled_df.rename(columns={'SNP':'SNPShuffled'+str(i+1)})\n",
    "    \n",
    "#    results_df = pd.merge(results_df, tmp_shuffled_df, on='Full ID')\n",
    "    results_df = results_df.join(tmp_shuffled_df)\n",
    "    print('Time for permutation GWAS:' + str(time.time() - time_permut_0) + 's')    "
   ]
  },
  {
   "cell_type": "code",
   "execution_count": 13,
   "metadata": {},
   "outputs": [],
   "source": [
    "results_df.to_csv(OUTPUT_NAME + '-with-Permutations.txt', sep=\"\\t\", index=False)"
   ]
  },
  {
   "cell_type": "markdown",
   "metadata": {},
   "source": [
    "# Manhattan Plot"
   ]
  },
  {
   "cell_type": "code",
   "execution_count": 20,
   "metadata": {},
   "outputs": [
    {
     "data": {
      "image/png": "[encoded data removed]",
      "text/plain": [
       "<matplotlib.figure.Figure at 0x104a93c8>"
      ]
     },
     "metadata": {},
     "output_type": "display_data"
    }
   ],
   "source": [
    "import pylab\n",
    "import fastlmm.util.util as flutil\n",
    "flutil.manhattan_plot(results_df.as_matrix([\"Chr\", \"ChrPos\", \"PValue\"]),pvalue_line=1e-5,xaxis_unit_bp=False, plot_threshold=1)\n",
    "pylab.show()"
   ]
  },
  {
   "cell_type": "markdown",
   "metadata": {},
   "source": [
    "# QQ Plot"
   ]
  },
  {
   "cell_type": "code",
   "execution_count": 22,
   "metadata": {},
   "outputs": [
    {
     "name": "stderr",
     "output_type": "stream",
     "text": [
      "C:\\Users\\micha\\Anaconda2\\lib\\site-packages\\statsmodels\\compat\\pandas.py:56: FutureWarning: The pandas.core.datetools module is deprecated and will be removed in a future version. Please use the pandas.tseries module instead.\n",
      "  from pandas.core import datetools\n",
      "C:\\Users\\micha\\Anaconda2\\lib\\site-packages\\sklearn\\grid_search.py:42: DeprecationWarning: This module was deprecated in version 0.18 in favor of the model_selection module into which all the refactored classes and functions are moved. This module will be removed in 0.20.\n",
      "  DeprecationWarning)\n",
      "fastlmm\\feature_selection\\PerformSelectionDistributable.py:13: UserWarning: \n",
      "This call to matplotlib.use() has no effect because the backend has already\n",
      "been chosen; matplotlib.use() must be called *before* pylab, matplotlib.pyplot,\n",
      "or matplotlib.backends is imported for the first time.\n",
      "\n",
      "The backend was *originally* set to 'module://ipykernel.pylab.backend_inline' by the following code:\n",
      "  File \"C:\\Users\\micha\\Anaconda2\\lib\\runpy.py\", line 174, in _run_module_as_main\n",
      "    \"__main__\", fname, loader, pkg_name)\n",
      "  File \"C:\\Users\\micha\\Anaconda2\\lib\\runpy.py\", line 72, in _run_code\n",
      "    exec code in run_globals\n",
      "  File \"C:\\Users\\micha\\Anaconda2\\lib\\site-packages\\ipykernel_launcher.py\", line 16, in <module>\n",
      "    app.launch_new_instance()\n",
      "  File \"C:\\Users\\micha\\Anaconda2\\lib\\site-packages\\traitlets\\config\\application.py\", line 658, in launch_instance\n",
      "    app.start()\n",
      "  File \"C:\\Users\\micha\\Anaconda2\\lib\\site-packages\\ipykernel\\kernelapp.py\", line 478, in start\n",
      "    self.io_loop.start()\n",
      "  File \"C:\\Users\\micha\\Anaconda2\\lib\\site-packages\\zmq\\eventloop\\ioloop.py\", line 177, in start\n",
      "    super(ZMQIOLoop, self).start()\n",
      "  File \"C:\\Users\\micha\\Anaconda2\\lib\\site-packages\\tornado\\ioloop.py\", line 888, in start\n",
      "    handler_func(fd_obj, events)\n",
      "  File \"C:\\Users\\micha\\Anaconda2\\lib\\site-packages\\tornado\\stack_context.py\", line 277, in null_wrapper\n",
      "    return fn(*args, **kwargs)\n",
      "  File \"C:\\Users\\micha\\Anaconda2\\lib\\site-packages\\zmq\\eventloop\\zmqstream.py\", line 440, in _handle_events\n",
      "    self._handle_recv()\n",
      "  File \"C:\\Users\\micha\\Anaconda2\\lib\\site-packages\\zmq\\eventloop\\zmqstream.py\", line 472, in _handle_recv\n",
      "    self._run_callback(callback, msg)\n",
      "  File \"C:\\Users\\micha\\Anaconda2\\lib\\site-packages\\zmq\\eventloop\\zmqstream.py\", line 414, in _run_callback\n",
      "    callback(*args, **kwargs)\n",
      "  File \"C:\\Users\\micha\\Anaconda2\\lib\\site-packages\\tornado\\stack_context.py\", line 277, in null_wrapper\n",
      "    return fn(*args, **kwargs)\n",
      "  File \"C:\\Users\\micha\\Anaconda2\\lib\\site-packages\\ipykernel\\kernelbase.py\", line 283, in dispatcher\n",
      "    return self.dispatch_shell(stream, msg)\n",
      "  File \"C:\\Users\\micha\\Anaconda2\\lib\\site-packages\\ipykernel\\kernelbase.py\", line 233, in dispatch_shell\n",
      "    handler(stream, idents, msg)\n",
      "  File \"C:\\Users\\micha\\Anaconda2\\lib\\site-packages\\ipykernel\\kernelbase.py\", line 399, in execute_request\n",
      "    user_expressions, allow_stdin)\n",
      "  File \"C:\\Users\\micha\\Anaconda2\\lib\\site-packages\\ipykernel\\ipkernel.py\", line 208, in do_execute\n",
      "    res = shell.run_cell(code, store_history=store_history, silent=silent)\n",
      "  File \"C:\\Users\\micha\\Anaconda2\\lib\\site-packages\\ipykernel\\zmqshell.py\", line 537, in run_cell\n",
      "    return super(ZMQInteractiveShell, self).run_cell(*args, **kwargs)\n",
      "  File \"C:\\Users\\micha\\Anaconda2\\lib\\site-packages\\IPython\\core\\interactiveshell.py\", line 2728, in run_cell\n",
      "    self.events.trigger('post_run_cell')\n",
      "  File \"C:\\Users\\micha\\Anaconda2\\lib\\site-packages\\IPython\\core\\events.py\", line 74, in trigger\n",
      "    func(*args, **kwargs)\n",
      "  File \"C:\\Users\\micha\\Anaconda2\\lib\\site-packages\\ipykernel\\pylab\\backend_inline.py\", line 160, in configure_once\n",
      "    activate_matplotlib(backend)\n",
      "  File \"C:\\Users\\micha\\Anaconda2\\lib\\site-packages\\IPython\\core\\pylabtools.py\", line 308, in activate_matplotlib\n",
      "    matplotlib.pyplot.switch_backend(backend)\n",
      "  File \"C:\\Users\\micha\\Anaconda2\\lib\\site-packages\\matplotlib\\pyplot.py\", line 232, in switch_backend\n",
      "    matplotlib.use(newbackend, warn=False, force=True)\n",
      "  File \"C:\\Users\\micha\\Anaconda2\\lib\\site-packages\\matplotlib\\__init__.py\", line 1305, in use\n",
      "    reload(sys.modules['matplotlib.backends'])\n",
      "  File \"C:\\Users\\micha\\Anaconda2\\lib\\site-packages\\matplotlib\\backends\\__init__.py\", line 14, in <module>\n",
      "    line for line in traceback.format_stack()\n",
      "\n",
      "\n",
      "  matplotlib.use('Agg') #This lets it work even on machines without graphics displays\n"
     ]
    },
    {
     "name": "stdout",
     "output_type": "stream",
     "text": [
      "lambda=1.0020\n"
     ]
    },
    {
     "name": "stderr",
     "output_type": "stream",
     "text": [
      "C:\\Users\\micha\\Anaconda2\\lib\\site-packages\\numpy\\lib\\scimath.py:120: RuntimeWarning: invalid value encountered in less\n",
      "  if any(isreal(x) & (x < 0)):\n"
     ]
    },
    {
     "data": {
      "image/png": "[encoded data removed]",
      "text/plain": [
       "<matplotlib.figure.Figure at 0x41e5bc18>"
      ]
     },
     "metadata": {},
     "output_type": "display_data"
    }
   ],
   "source": [
    "from fastlmm.util.stats import plotp\n",
    "plotp.qqplot(results_df[\"PValue\"].values, xlim=[0,5], ylim=[0,5])\n",
    "pylab.show()"
   ]
  },
  {
   "cell_type": "code",
   "execution_count": null,
   "metadata": {},
   "outputs": [],
   "source": [
    "%ls"
   ]
  },
  {
   "cell_type": "markdown",
   "metadata": {},
   "source": [
    "# The end"
   ]
  }
 ],
 "metadata": {
  "kernelspec": {
   "display_name": "Python 2",
   "language": "python",
   "name": "python2"
  },
  "language_info": {
   "codemirror_mode": {
    "name": "ipython",
    "version": 2
   },
   "file_extension": ".py",
   "mimetype": "text/x-python",
   "name": "python",
   "nbconvert_exporter": "python",
   "pygments_lexer": "ipython2",
   "version": "2.7.14"
  }
 },
 "nbformat": 4,
 "nbformat_minor": 2
}
