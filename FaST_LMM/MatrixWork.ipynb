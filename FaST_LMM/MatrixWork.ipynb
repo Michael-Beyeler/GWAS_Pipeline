{
 "cells": [
  {
   "cell_type": "code",
   "execution_count": 1,
   "metadata": {
    "collapsed": true
   },
   "outputs": [],
   "source": [
    "# set some ipython notebook properties\n",
    "%matplotlib inline\n",
    "\n",
    "# set degree of verbosity (adapt to INFO for more verbose output)\n",
    "import logging\n",
    "logging.basicConfig(level=logging.WARNING)\n",
    "\n",
    "# set figure sizes\n",
    "import pylab\n",
    "pylab.rcParams['figure.figsize'] = (10.0, 8.0)\n",
    "\n",
    "# set display width for pandas data frames\n",
    "import pandas as pd\n",
    "pd.set_option('display.width', 1000)"
   ]
  },
  {
   "cell_type": "code",
   "execution_count": 27,
   "metadata": {
    "collapsed": false
   },
   "outputs": [
    {
     "name": "stdout",
     "output_type": "stream",
     "text": [
      "[-4.12839474 -0.71069159  7.83908632]\n",
      "[[ 0.17830987  0.86914323  0.46129777]\n",
      " [ 0.65036916 -0.45590689  0.60759268]\n",
      " [-0.7383939  -0.19167408  0.64655665]]\n"
     ]
    }
   ],
   "source": [
    "import numpy as np\n",
    "K = np.array([[1., 2, 3],[2,1,5],[3,5,1]])\n",
    "S,U = np.linalg.eigh(K)\n",
    "print S\n",
    "print U"
   ]
  },
  {
   "cell_type": "code",
   "execution_count": 14,
   "metadata": {
    "collapsed": false
   },
   "outputs": [
    {
     "data": {
      "text/plain": [
       "array([[-4.12839474, -0.        ,  0.        ],\n",
       "       [-0.        , -0.71069159,  0.        ],\n",
       "       [-0.        , -0.        ,  7.83908632]])"
      ]
     },
     "execution_count": 14,
     "metadata": {},
     "output_type": "execute_result"
    }
   ],
   "source": [
    "np.eye(3) * S"
   ]
  },
  {
   "cell_type": "code",
   "execution_count": 17,
   "metadata": {
    "collapsed": false
   },
   "outputs": [
    {
     "data": {
      "text/plain": [
       "array([[ 0.17830987,  0.86914323,  0.46129777],\n",
       "       [ 0.65036916, -0.45590689,  0.60759268],\n",
       "       [-0.7383939 , -0.19167408,  0.64655665]])"
      ]
     },
     "execution_count": 17,
     "metadata": {},
     "output_type": "execute_result"
    }
   ],
   "source": [
    "U"
   ]
  },
  {
   "cell_type": "code",
   "execution_count": 16,
   "metadata": {
    "collapsed": false
   },
   "outputs": [
    {
     "data": {
      "text/plain": [
       "array([[ 1.,  2.,  3.],\n",
       "       [ 2.,  1.,  5.],\n",
       "       [ 3.,  5.,  1.]])"
      ]
     },
     "execution_count": 16,
     "metadata": {},
     "output_type": "execute_result"
    }
   ],
   "source": [
    "np.dot(np.dot(U,np.eye(3) * S),U.T)"
   ]
  },
  {
   "cell_type": "code",
   "execution_count": 21,
   "metadata": {
    "collapsed": false
   },
   "outputs": [
    {
     "name": "stdout",
     "output_type": "stream",
     "text": [
      "[[-1.04347826  0.56521739  0.30434783]\n",
      " [ 0.56521739 -0.34782609  0.04347826]\n",
      " [ 0.30434783  0.04347826 -0.13043478]]\n",
      "[[-1.04347826  0.56521739  0.30434783]\n",
      " [ 0.56521739 -0.34782609  0.04347826]\n",
      " [ 0.30434783  0.04347826 -0.13043478]]\n"
     ]
    }
   ],
   "source": [
    "print np.linalg.inv(K)\n",
    "print np.dot(np.dot(U,np.eye(3) / S),U.T)"
   ]
  },
  {
   "cell_type": "code",
   "execution_count": 26,
   "metadata": {
    "collapsed": false
   },
   "outputs": [
    {
     "name": "stdout",
     "output_type": "stream",
     "text": [
      "[[ 1.   0.4  0.6]\n",
      " [ 0.4  1.   1. ]\n",
      " [ 0.6  1.   1. ]]\n",
      "[[  3.77475828e-15  -5.00000000e+00   5.00000000e+00]\n",
      " [ -5.00000000e+00  -1.60000000e+01   1.90000000e+01]\n",
      " [  5.00000000e+00   1.90000000e+01  -2.10000000e+01]]\n",
      "[[ 0.59130435  0.11304348  0.06086957]\n",
      " [ 0.11304348  0.73043478  0.00869565]\n",
      " [ 0.06086957  0.00869565  0.77391304]]\n"
     ]
    }
   ],
   "source": [
    "V = .2 * K + .8 * np.eye(3)\n",
    "print V\n",
    "print np.linalg.inv(V)\n",
    "print .2 * np.dot(np.dot(U,np.eye(3) / S),U.T) + .8 * np.eye(3)"
   ]
  },
  {
   "cell_type": "code",
   "execution_count": 33,
   "metadata": {
    "collapsed": false
   },
   "outputs": [
    {
     "name": "stdout",
     "output_type": "stream",
     "text": [
      "[[-0.08026756  0.04347826  0.02341137]\n",
      " [ 0.04347826 -0.02675585  0.00334448]\n",
      " [ 0.02341137  0.00334448 -0.01003344]]\n",
      "[[-0.08026756  0.04347826  0.02341137]\n",
      " [ 0.04347826 -0.02675585  0.00334448]\n",
      " [ 0.02341137  0.00334448 -0.01003344]]\n"
     ]
    }
   ],
   "source": [
    "print np.linalg.inv(13 * K)\n",
    "print 1./13 * np.linalg.inv(K)"
   ]
  },
  {
   "cell_type": "raw",
   "metadata": {},
   "source": [
    "print K"
   ]
  },
  {
   "cell_type": "markdown",
   "metadata": {
    "collapsed": false
   },
   "source": [
    "factor = np.diag(K).sum()\n",
    "print factor"
   ]
  },
  {
   "cell_type": "code",
   "execution_count": 38,
   "metadata": {
    "collapsed": false
   },
   "outputs": [
    {
     "name": "stdout",
     "output_type": "stream",
     "text": [
      "[[ 0.33333333  0.66666667  1.        ]\n",
      " [ 0.66666667  0.33333333  1.66666667]\n",
      " [ 1.          1.66666667  0.33333333]]\n"
     ]
    }
   ],
   "source": [
    "Kn = K/factor\n",
    "print Kn"
   ]
  },
  {
   "cell_type": "code",
   "execution_count": 39,
   "metadata": {
    "collapsed": false
   },
   "outputs": [
    {
     "data": {
      "text/plain": [
       "0.49965694678637196"
      ]
     },
     "execution_count": 39,
     "metadata": {},
     "output_type": "execute_result"
    }
   ],
   "source": [
    "np.std(Kn)"
   ]
  },
  {
   "cell_type": "code",
   "execution_count": 7,
   "metadata": {
    "collapsed": false
   },
   "outputs": [
    {
     "name": "stdout",
     "output_type": "stream",
     "text": [
      "[ 1.  1.  1.]\n",
      "[[ 1.  0.  0.]\n",
      " [ 0.  1.  0.]\n",
      " [ 0.  0.  1.]]\n"
     ]
    }
   ],
   "source": [
    "s,u = np.linalg.eigh(np.eye(3))\n",
    "print s\n",
    "print u"
   ]
  },
  {
   "cell_type": "code",
   "execution_count": 8,
   "metadata": {
    "collapsed": false
   },
   "outputs": [
    {
     "data": {
      "text/plain": [
       "array([[ 1.,  0.,  0.],\n",
       "       [ 0.,  1.,  0.],\n",
       "       [ 0.,  0.,  1.]])"
      ]
     },
     "execution_count": 8,
     "metadata": {},
     "output_type": "execute_result"
    }
   ],
   "source": [
    "np.dot(np.dot(u,np.eye(3) * s),u.T)"
   ]
  },
  {
   "cell_type": "code",
   "execution_count": 15,
   "metadata": {
    "collapsed": false
   },
   "outputs": [
    {
     "name": "stdout",
     "output_type": "stream",
     "text": [
      "[[ 1.  0.  0.]\n",
      " [ 0.  1.  0.]\n",
      " [ 0.  0.  1.]]\n"
     ]
    }
   ],
   "source": [
    "u2 = 1\n",
    "print np.dot(u2,np.eye(3)*s)"
   ]
  },
  {
   "cell_type": "code",
   "execution_count": 27,
   "metadata": {
    "collapsed": false
   },
   "outputs": [
    {
     "name": "stdout",
     "output_type": "stream",
     "text": [
      "588.713280344 283.075919246\n"
     ]
    }
   ],
   "source": [
    "#Why can we assume that h2 and e2 add to one?\n",
    "#Because y is unit standardized then its s.d. is 1\n",
    "# and K's diagional is N\n",
    "\n",
    "covar = np.array([[float(num)] for num in xrange(490)])\n",
    "np.random.seed(0)\n",
    "pheno = covar * 2.0 + 100 + np.random.normal(size=len(covar))*10\n",
    "print np.mean(pheno), np.std(pheno)"
   ]
  },
  {
   "cell_type": "code",
   "execution_count": 32,
   "metadata": {
    "collapsed": false
   },
   "outputs": [
    {
     "data": {
      "image/png": "[encoded data removed]",
      "text/plain": [
       "<matplotlib.figure.Figure at 0xc634978>"
      ]
     },
     "metadata": {},
     "output_type": "display_data"
    }
   ],
   "source": [
    "import pylab\n",
    "pylab.plot(covar, pheno,\".\")\n",
    "pylab.show()\n"
   ]
  },
  {
   "cell_type": "code",
   "execution_count": null,
   "metadata": {
    "collapsed": true
   },
   "outputs": [],
   "source": []
  }
 ],
 "metadata": {
  "kernelspec": {
   "display_name": "Python 2",
   "language": "python",
   "name": "python2"
  },
  "language_info": {
   "codemirror_mode": {
    "name": "ipython",
    "version": 2
   },
   "file_extension": ".py",
   "mimetype": "text/x-python",
   "name": "python",
   "nbconvert_exporter": "python",
   "pygments_lexer": "ipython2",
   "version": "2.7.10"
  }
 },
 "nbformat": 4,
 "nbformat_minor": 0
}
